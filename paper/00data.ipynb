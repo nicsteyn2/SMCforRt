{
 "cells": [
  {
   "cell_type": "code",
   "execution_count": 23,
   "metadata": {},
   "outputs": [],
   "source": [
    "using Plots, Measures\n",
    "\n",
    "include(\"../src/LoadData.jl\")\n",
    "include(\"../src/PMMH.jl\")\n",
    "include(\"../src/MarginalPosterior.jl\")\n",
    "include(\"../src/Support.jl\")\n",
    "\n",
    "# Load data\n",
    "Y1 = loadData(\"NZCOVID\");\n",
    "Y2 = loadData(\"NZCOVID_1APR2024\")[1:100,:];\n",
    "\n",
    "# Calculate aggregated cases\n",
    "Y2.WeeklyCases = repeat([0], length(Y2.Ct))\n",
    "for ii = 1:length(Y2.Ct)\n",
    "    if ii % 7 == 0\n",
    "        Y2.WeeklyCases[ii] = sum(Y2.Ct[ii-6:ii])\n",
    "    end\n",
    "end\n"
   ]
  },
  {
   "cell_type": "code",
   "execution_count": 24,
   "metadata": {},
   "outputs": [
    {
     "data": {
      "text/plain": [
       "\"figures/data.png\""
      ]
     },
     "metadata": {},
     "output_type": "display_data"
    }
   ],
   "source": [
    "# Plot initial data\n",
    "plt1 = plot(xlabel=\"Date\", ylabel=\"Reported cases\")\n",
    "plt1 = bar!(Y1.date, Y1.border + Y1.local, label=\"Imported cases\", color=:darkgreen)\n",
    "plt1 = bar!(Y1.date, Y1.local, label=\"Local cases\", color=:darkblue)\n",
    "\n",
    "# Plot second period\n",
    "plt2 = plot(xlabel=\"Date\", legend=false)\n",
    "plt2 = bar!(Y2.date, Y2.border + Y2.local, label=\"Imported cases\", color=:darkgreen)\n",
    "plt2 = bar!(Y2.date, Y2.local, label=\"Local cases\", color=:darkblue)\n",
    "\n",
    "# Plot together\n",
    "plt = plot(plt1, plt2, layout=(1,2), size=(1000, 400), left_margin=4mm, bottom_margin=4mm)\n",
    "png(\"figures/data.png\")"
   ]
  },
  {
   "cell_type": "code",
   "execution_count": 28,
   "metadata": {},
   "outputs": [
    {
     "data": {
      "text/html": [
       "<p>DataFrameRow (6 columns)</p><table class=\"data-frame\"><thead><tr><th></th><th>date</th><th>border</th><th>local</th><th>Ct</th><th>t</th><th>WeeklyCases</th></tr><tr><th></th><th>Date</th><th>Int64</th><th>Int64</th><th>Int64</th><th>Int64</th><th>Int64</th></tr></thead><tbody><tr><th>1</th><td>2024-04-01</td><td>0</td><td>410</td><td>410</td><td>1497</td><td>0</td></tr></tbody></table>"
      ],
      "text/latex": [
       "\\begin{tabular}{r|cccccc}\n",
       "\t& date & border & local & Ct & t & WeeklyCases\\\\\n",
       "\t\\hline\n",
       "\t& Date & Int64 & Int64 & Int64 & Int64 & Int64\\\\\n",
       "\t\\hline\n",
       "\t1 & 2024-04-01 & 0 & 410 & 410 & 1497 & 0 \\\\\n",
       "\\end{tabular}\n"
      ],
      "text/plain": [
       "\u001b[1mDataFrameRow\u001b[0m\n",
       "\u001b[1m Row \u001b[0m│\u001b[1m date       \u001b[0m\u001b[1m border \u001b[0m\u001b[1m local \u001b[0m\u001b[1m Ct    \u001b[0m\u001b[1m t     \u001b[0m\u001b[1m WeeklyCases \u001b[0m\n",
       "\u001b[1m     \u001b[0m│\u001b[90m Date       \u001b[0m\u001b[90m Int64  \u001b[0m\u001b[90m Int64 \u001b[0m\u001b[90m Int64 \u001b[0m\u001b[90m Int64 \u001b[0m\u001b[90m Int64       \u001b[0m\n",
       "─────┼──────────────────────────────────────────────────────\n",
       "   1 │ 2024-04-01       0    410    410   1497            0"
      ]
     },
     "metadata": {},
     "output_type": "display_data"
    }
   ],
   "source": [
    "Y2[1,:]\n"
   ]
  }
 ],
 "metadata": {
  "kernelspec": {
   "display_name": "Julia 1.8.0",
   "language": "julia",
   "name": "julia-1.8"
  },
  "language_info": {
   "file_extension": ".jl",
   "mimetype": "application/julia",
   "name": "julia",
   "version": "1.8.0"
  }
 },
 "nbformat": 4,
 "nbformat_minor": 2
}
