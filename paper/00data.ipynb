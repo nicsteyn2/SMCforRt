{
 "cells": [
  {
   "cell_type": "code",
   "execution_count": 23,
   "metadata": {},
   "outputs": [],
   "source": [
    "using Plots, Measures\n",
    "\n",
    "include(\"../src/LoadData.jl\")\n",
    "include(\"../src/PMMH.jl\")\n",
    "include(\"../src/MarginalPosterior.jl\")\n",
    "include(\"../src/Support.jl\")\n",
    "\n",
    "# Load data\n",
    "Y1 = loadData(\"NZCOVID\");\n",
    "Y2 = loadData(\"NZCOVID_1APR2024\")[1:100,:];\n",
    "\n",
    "# Calculate aggregated cases\n",
    "Y2.WeeklyCases = repeat([0], length(Y2.Ct))\n",
    "for ii = 1:length(Y2.Ct)\n",
    "    if ii % 7 == 0\n",
    "        Y2.WeeklyCases[ii] = sum(Y2.Ct[ii-6:ii])\n",
    "    end\n",
    "end\n"
   ]
  },
  {
   "cell_type": "code",
   "execution_count": null,
   "metadata": {},
   "outputs": [
    {
     "data": {
      "text/plain": [
       "\"figures/data.png\""
      ]
     },
     "metadata": {},
     "output_type": "display_data"
    }
   ],
   "source": [
    "# Plot initial data\n",
    "plt1 = plot(xlabel=\"Date\", ylabel=\"Reported cases\")\n",
    "plt1 = bar!(Y1.date, Y1.border + Y1.local, label=\"Imported cases\", color=:darkgreen)\n",
    "plt1 = bar!(Y1.date, Y1.local, label=\"Local cases\", color=:darkblue)\n",
    "\n",
    "# Plot second period\n",
    "plt2 = plot(xlabel=\"Date\", legend=false)\n",
    "plt2 = bar!(Y2.date, Y2.border + Y2.local, label=\"Imported cases\", color=:darkgreen)\n",
    "plt2 = bar!(Y2.date, Y2.local, label=\"Local cases\", color=:darkblue)\n",
    "\n",
    "# Plot together\n",
    "plt = plot(plt1, plt2, layout=(1,2), size=(1000, 400), left_margin=4mm, bottom_margin=4mm)\n",
    "display(plt)\n",
    "png(\"figures/data.png\")"
   ]
  }
 ],
 "metadata": {
  "kernelspec": {
   "display_name": "Julia 1.8.0",
   "language": "julia",
   "name": "julia-1.8"
  },
  "language_info": {
   "file_extension": ".jl",
   "mimetype": "application/julia",
   "name": "julia",
   "version": "1.8.0"
  }
 },
 "nbformat": 4,
 "nbformat_minor": 2
}
