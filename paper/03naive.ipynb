{
 "cells": [
  {
   "cell_type": "code",
   "execution_count": 1,
   "metadata": {},
   "outputs": [],
   "source": [
    "using Plots, Measures\n",
    "\n",
    "include(\"../src/LoadData.jl\")\n",
    "include(\"../src/MarginalPosterior.jl\")\n",
    "include(\"../src/PMMH.jl\")\n",
    "include(\"../src/Support.jl\")\n",
    "\n",
    "# Load data\n",
    "Yin = loadData(\"NZCOVID_1APR2024\");\n",
    "\n",
    "# Use only the first 100 days when fitting the model\n",
    "Y = Yin[1:100,:];"
   ]
  },
  {
   "cell_type": "code",
   "execution_count": 2,
   "metadata": {},
   "outputs": [
    {
     "data": {
      "text/plain": [
       "naiveModel (generic function with 1 method)"
      ]
     },
     "metadata": {},
     "output_type": "display_data"
    }
   ],
   "source": [
    "function naiveModel(θ, Y::DataFrame, opts::Dict)\n",
    "    \n",
    "    # Extract frequently used options\n",
    "    T = opts[\"T\"]\n",
    "    N = opts[\"N\"]\n",
    "    L = opts[\"L\"]\n",
    "    ω = opts[\"ω\"]\n",
    "    delayDist = opts[\"delayDist\"]\n",
    "    h = opts[\"forecastingHorizon\"]\n",
    "    \n",
    "    # Initialise output matrices\n",
    "    R = zeros(N, T+h)\n",
    "    I = zeros(N, T+h)\n",
    "    W = ones(N, T)\n",
    "    \n",
    "    # And predictive values\n",
    "    μ = zeros(N, T+h) # Store expected cases to avoid resampling issues\n",
    "    C = zeros(N, T+h)\n",
    "    \n",
    "    # Sample from initial distributions\n",
    "    R[:,1] = rand(opts[\"pR0\"], N)\n",
    "    I[:,1] = rand(opts[\"pI0\"], N)\n",
    "    \n",
    "    # Run the filter\n",
    "    for tt = 2:T\n",
    "        \n",
    "        # Project according to the state-space model\n",
    "        R[:,tt] = exp.(rand.(Normal.(log.(R[:,tt-1]), θ[1])))\n",
    "        Λ = sum(I[:, (tt-1):-1:1] .* ω[1:(tt-1)]', dims=2) ./ sum(ω[1:(tt-1)])\n",
    "        I[:,tt] = rand.(Poisson.(R[:,tt] .* Λ))\n",
    "                    \n",
    "        # Weight according to the observation model\n",
    "        μt = sum(I[:,(tt-1):-1:1] .* delayDist[1:(tt-1)]', dims=2) ./ sum(delayDist[1:(tt-1)])\n",
    "        r = 1/θ[2]\n",
    "        p = 1 ./ (1  .+ θ[2] * μt)\n",
    "        W[:,tt] = pdf.(NegativeBinomial.(r, p), Y.Ct[tt])\n",
    "            \n",
    "        # Resample\n",
    "        inds = wsample(1:N, W[:,tt], N; replace=true)\n",
    "        R[:, max(tt - L, 1):tt] = R[inds, max(tt - L, 1):tt]\n",
    "        I[:, max(tt - L, 1):tt] = I[inds, max(tt - L, 1):tt]\n",
    "\n",
    "        # Store expected cases if we are finding predictive posterior\n",
    "        if opts[\"predictiveValues\"]\n",
    "            μ[:,tt] = μt\n",
    "            μ[:,max(tt-L,1):tt] = μ[inds,max(tt-L,1):tt]\n",
    "        end\n",
    "                    \n",
    "    end\n",
    "    \n",
    "    # Fetch predictive values\n",
    "    if opts[\"predictiveValues\"]\n",
    "        for tt = 2:T\n",
    "            r = 1/θ[2]\n",
    "            p = 1 ./ (1 .+ θ[2] * μ[:,tt])\n",
    "            C[:,tt] = rand.(NegativeBinomial.(r, p))\n",
    "        end\n",
    "    end\n",
    "    \n",
    "    # Run forecast\n",
    "    if h > 0\n",
    "        for tt = (T+1):(T+h)\n",
    "            R[:,tt] = exp.(rand.(Normal.(log.(R[:,tt-1]), θ[1])))\n",
    "            Λ = sum(I[:, (tt-1):-1:1] .* ω[1:(tt-1)]', dims=2) ./ sum(ω[1:(tt-1)])\n",
    "            I[:,tt] = rand.(Poisson.(R[:,tt] .* Λ))\n",
    "            μt = sum(I[:,(tt-1):-1:1] .* delayDist[1:(tt-1)]', dims=2) ./ sum(delayDist[1:(tt-1)])\n",
    "            r = 1/θ[2]\n",
    "            p = 1 ./ (1  .+ θ[2] * μt)\n",
    "            C[:,tt] = rand.(NegativeBinomial.(r, p))\n",
    "        end\n",
    "    end\n",
    "    \n",
    "    # Store output as three-dimensional array\n",
    "    X = zeros(N, T+h, 3)\n",
    "    X[:,:,1] = R\n",
    "    X[:,:,2] = I\n",
    "    X[:,:,3] = C\n",
    "    \n",
    "    # Forecast\n",
    "    return(X, W)\n",
    "    \n",
    "end\n"
   ]
  },
  {
   "cell_type": "code",
   "execution_count": 3,
   "metadata": {},
   "outputs": [],
   "source": [
    "opts = Dict(\n",
    "\n",
    "    # Bootstrap filter options\n",
    "    \"T\" => size(Y, 1), # Number of time-steps\n",
    "    \"N\" => 10000, # Number of particles\n",
    "    \"L\" => 50, # Fixed-lag resampling length\n",
    "    \"ω\" => pdf.(Gamma(2.36, 2.74), 1:128), # Serial interval\n",
    "    \"delayDist\" => pdf.(Gamma(5.72, 0.96), 1:200), # Observation delay distribution\n",
    "    \"pR0\" => Uniform(0, 10), # Prior on Rt at t = 0\n",
    "    \"pI0\" => DiscreteUniform(200, 600), # Prior on I at t = 0\n",
    "    \"predictiveValues\" => false, # Whether to calculate predictive cases\n",
    "    \"forecastingHorizon\" => 0, # Number of days to forecast\n",
    "\n",
    "    # PMMH options\n",
    "    \"nChains\" => 3, # Number of chains\n",
    "    \"chunkSize\" => 100, # Number of iterations\n",
    "    \"maxChunks\" => 50, # Maximum number of chunks\n",
    "    \"maxRhat\" => 1.05,  # Stopping criterion: maximum Rhat value\n",
    "    \"minESS\" => 100, # Stopping criterion: minimum effective sample size\n",
    "    \"showChunkProgress\" => true, # Whether to show progress of each chunk\n",
    "    \"propStdDevInit\" => sqrt.([0.01, 0.001]), # Initial proposal standard deviation (this is adaptively fit)\n",
    "    \"paramPriors\" => [Uniform(0, 1), Uniform(0, 0.1)],\n",
    "    \"initialParamSamplers\" => [Uniform(0.05, 0.2), Uniform(0.01, 0.02)],\n",
    "    \"paramLimits\" => [(0, 1), (0, 0.1)],\n",
    "    \"paramNames\" => [\"σ\", \"ϕ\"],\n",
    "\n",
    "    # Marginal posterior options\n",
    "    \"posteriorNumberOfParticles\" => 10000,\n",
    "    \"posteriorParamSamples\" => 100\n",
    "\n",
    ");"
   ]
  },
  {
   "cell_type": "code",
   "execution_count": 5,
   "metadata": {},
   "outputs": [
    {
     "name": "stderr",
     "output_type": "stream",
     "text": [
      "\u001b[32mRunning chunk 1 100%|██████████████████████████████████████████████████| Time: 0:00:54\u001b[39m\u001b[K\n"
     ]
    },
    {
     "data": {
      "text/plain": [
       "2×2 Matrix{Float64}:\n",
       "  0.00187387  -8.39656e-5\n",
       " -8.39656e-5   0.000283946"
      ]
     },
     "metadata": {},
     "output_type": "display_data"
    },
    {
     "name": "stdout",
     "output_type": "stream",
     "text": [
      "Old frobenius: 0.010049875621120892, new frobenius: 0.0018989782600318994, change: 0.18895539921319948\n",
      "\u001b[1m2×7 DataFrame\u001b[0m\n",
      "\u001b[1m Row \u001b[0m│\u001b[1m chunk \u001b[0m\u001b[1m tuning \u001b[0m\u001b[1m pAccept   \u001b[0m\u001b[1m Rhat    \u001b[0m\u001b[1m ESS     \u001b[0m\u001b[1m mean      \u001b[0m\u001b[1m std       \u001b[0m\n",
      "\u001b[1m     \u001b[0m│\u001b[90m Int64 \u001b[0m\u001b[90m Bool   \u001b[0m\u001b[90m Float64   \u001b[0m\u001b[90m Float64 \u001b[0m\u001b[90m Float64 \u001b[0m\u001b[90m Float64   \u001b[0m\u001b[90m Float64   \u001b[0m\n",
      "─────┼──────────────────────────────────────────────────────────────────\n",
      "   1 │     1    true  0.0639731  1.04792  26.4624  0.082626   0.0415333\n",
      "   2 │     1    true  0.0639731  1.22303  10.021   0.0687253  0.0151664\n"
     ]
    },
    {
     "name": "stderr",
     "output_type": "stream",
     "text": [
      "\u001b[32mRunning chunk 2 100%|██████████████████████████████████████████████████| Time: 0:01:12\u001b[39m\u001b[K\n"
     ]
    },
    {
     "data": {
      "text/plain": [
       "2×2 Matrix{Float64}:\n",
       "  0.00116843  -3.18631e-5\n",
       " -3.18631e-5   0.000205486"
      ]
     },
     "metadata": {},
     "output_type": "display_data"
    },
    {
     "name": "stdout",
     "output_type": "stream",
     "text": [
      "Old frobenius: 0.0018989782600318994, new frobenius: 0.0011872141613617669, change: 0.6251857571775592\n",
      "\u001b[1m2×7 DataFrame\u001b[0m\n",
      "\u001b[1m Row \u001b[0m│\u001b[1m chunk \u001b[0m\u001b[1m tuning \u001b[0m\u001b[1m pAccept  \u001b[0m\u001b[1m Rhat    \u001b[0m\u001b[1m ESS     \u001b[0m\u001b[1m mean      \u001b[0m\u001b[1m std       \u001b[0m\n",
      "\u001b[1m     \u001b[0m│\u001b[90m Int64 \u001b[0m\u001b[90m Bool   \u001b[0m\u001b[90m Float64  \u001b[0m\u001b[90m Float64 \u001b[0m\u001b[90m Float64 \u001b[0m\u001b[90m Float64   \u001b[0m\u001b[90m Float64   \u001b[0m\n",
      "─────┼─────────────────────────────────────────────────────────────────\n",
      "   1 │     2    true  0.154882  1.12741  20.9953  0.0655668  0.0179829\n",
      "   2 │     2    true  0.154882  1.10065  20.6854  0.0734017  0.0105746\n"
     ]
    },
    {
     "name": "stderr",
     "output_type": "stream",
     "text": [
      "\u001b[32mRunning chunk 3 100%|██████████████████████████████████████████████████| Time: 0:01:10\u001b[39m\u001b[K\n"
     ]
    },
    {
     "data": {
      "text/plain": [
       "2×2 Matrix{Float64}:\n",
       "  0.0009372   -2.67002e-5\n",
       " -2.67002e-5   0.000159965"
      ]
     },
     "metadata": {},
     "output_type": "display_data"
    },
    {
     "name": "stdout",
     "output_type": "stream",
     "text": [
      "Old frobenius: 0.0011872141613617669, new frobenius: 0.0009515034145279548, change: 0.8014589494422427\n",
      "\u001b[1m2×7 DataFrame\u001b[0m\n",
      "\u001b[1m Row \u001b[0m│\u001b[1m chunk \u001b[0m\u001b[1m tuning \u001b[0m\u001b[1m pAccept  \u001b[0m\u001b[1m Rhat    \u001b[0m\u001b[1m ESS     \u001b[0m\u001b[1m mean      \u001b[0m\u001b[1m std        \u001b[0m\n",
      "\u001b[1m     \u001b[0m│\u001b[90m Int64 \u001b[0m\u001b[90m Bool   \u001b[0m\u001b[90m Float64  \u001b[0m\u001b[90m Float64 \u001b[0m\u001b[90m Float64 \u001b[0m\u001b[90m Float64   \u001b[0m\u001b[90m Float64    \u001b[0m\n",
      "─────┼──────────────────────────────────────────────────────────────────\n",
      "   1 │     3    true  0.171717  1.11497  22.2007  0.0618422  0.0194448\n",
      "   2 │     3    true  0.171717  1.16844  14.1049  0.070658   0.00827436\n"
     ]
    },
    {
     "name": "stderr",
     "output_type": "stream",
     "text": [
      "\u001b[32mRunning chunk 4 100%|██████████████████████████████████████████████████| Time: 0:01:18\u001b[39m\u001b[K\n"
     ]
    },
    {
     "data": {
      "text/plain": [
       "2×2 Matrix{Float64}:\n",
       "  0.000809227  -2.37668e-5\n",
       " -2.37668e-5    0.000150238"
      ]
     },
     "metadata": {},
     "output_type": "display_data"
    },
    {
     "name": "stdout",
     "output_type": "stream",
     "text": [
      "Frobenius of covariance matrix: 0.0008237411926831345\n",
      "\u001b[1m2×7 DataFrame\u001b[0m\n",
      "\u001b[1m Row \u001b[0m│\u001b[1m chunk \u001b[0m\u001b[1m tuning \u001b[0m\u001b[1m pAccept  \u001b[0m\u001b[1m Rhat    \u001b[0m\u001b[1m ESS     \u001b[0m\u001b[1m mean      \u001b[0m\u001b[1m std       \u001b[0m\n",
      "\u001b[1m     \u001b[0m│\u001b[90m Int64 \u001b[0m\u001b[90m Bool   \u001b[0m\u001b[90m Float64  \u001b[0m\u001b[90m Float64 \u001b[0m\u001b[90m Float64 \u001b[0m\u001b[90m Float64   \u001b[0m\u001b[90m Float64   \u001b[0m\n",
      "─────┼─────────────────────────────────────────────────────────────────\n",
      "   1 │     4   false  0.228956  1.20907  11.6245  0.0620865  0.0158112\n",
      "   2 │     4   false  0.228956  1.13174  20.437   0.0711712  0.0105426\n"
     ]
    },
    {
     "name": "stderr",
     "output_type": "stream",
     "text": [
      "\u001b[32mRunning chunk 5 100%|██████████████████████████████████████████████████| Time: 0:01:17\u001b[39m\u001b[K\n"
     ]
    },
    {
     "data": {
      "text/plain": [
       "2×2 Matrix{Float64}:\n",
       "  0.000744522  -2.24924e-5\n",
       " -2.24924e-5    0.000144257"
      ]
     },
     "metadata": {},
     "output_type": "display_data"
    },
    {
     "name": "stdout",
     "output_type": "stream",
     "text": [
      "Frobenius of covariance matrix: 0.0007590352794474448\n",
      "\u001b[1m2×7 DataFrame\u001b[0m\n",
      "\u001b[1m Row \u001b[0m│\u001b[1m chunk \u001b[0m\u001b[1m tuning \u001b[0m\u001b[1m pAccept \u001b[0m\u001b[1m Rhat    \u001b[0m\u001b[1m ESS     \u001b[0m\u001b[1m mean      \u001b[0m\u001b[1m std       \u001b[0m\n",
      "\u001b[1m     \u001b[0m│\u001b[90m Int64 \u001b[0m\u001b[90m Bool   \u001b[0m\u001b[90m Float64 \u001b[0m\u001b[90m Float64 \u001b[0m\u001b[90m Float64 \u001b[0m\u001b[90m Float64   \u001b[0m\u001b[90m Float64   \u001b[0m\n",
      "─────┼────────────────────────────────────────────────────────────────\n",
      "   1 │     5   false  0.23569  1.04978  49.2814  0.064825   0.0185002\n",
      "   2 │     5   false  0.23569  1.07205  49.0291  0.0735442  0.0103567\n"
     ]
    },
    {
     "name": "stderr",
     "output_type": "stream",
     "text": [
      "\u001b[32mRunning chunk 6 100%|██████████████████████████████████████████████████| Time: 0:01:17\u001b[39m\u001b[K\n"
     ]
    },
    {
     "data": {
      "text/plain": [
       "2×2 Matrix{Float64}:\n",
       "  0.000687668  -2.0895e-5\n",
       " -2.0895e-5     0.000130682"
      ]
     },
     "metadata": {},
     "output_type": "display_data"
    },
    {
     "name": "stdout",
     "output_type": "stream",
     "text": [
      "Frobenius of covariance matrix: 0.0007005981153009555\n",
      "\u001b[1m2×7 DataFrame\u001b[0m\n",
      "\u001b[1m Row \u001b[0m│\u001b[1m chunk \u001b[0m\u001b[1m tuning \u001b[0m\u001b[1m pAccept  \u001b[0m\u001b[1m Rhat    \u001b[0m\u001b[1m ESS      \u001b[0m\u001b[1m mean      \u001b[0m\u001b[1m std        \u001b[0m\n",
      "\u001b[1m     \u001b[0m│\u001b[90m Int64 \u001b[0m\u001b[90m Bool   \u001b[0m\u001b[90m Float64  \u001b[0m\u001b[90m Float64 \u001b[0m\u001b[90m Float64  \u001b[0m\u001b[90m Float64   \u001b[0m\u001b[90m Float64    \u001b[0m\n",
      "─────┼───────────────────────────────────────────────────────────────────\n",
      "   1 │     6   false  0.161616  1.04634  103.294   0.0638999  0.0182889\n",
      "   2 │     6   false  0.161616  1.01293   76.5842  0.0726604  0.00944699\n"
     ]
    },
    {
     "name": "stderr",
     "output_type": "stream",
     "text": [
      "\u001b[32mRunning chunk 7 100%|██████████████████████████████████████████████████| Time: 0:01:20\u001b[39m\u001b[K\u001b[K\n"
     ]
    },
    {
     "data": {
      "text/plain": [
       "2×2 Matrix{Float64}:\n",
       "  0.000657541  -2.32663e-5\n",
       " -2.32663e-5    0.000130488"
      ]
     },
     "metadata": {},
     "output_type": "display_data"
    },
    {
     "name": "stdout",
     "output_type": "stream",
     "text": [
      "Frobenius of covariance matrix: 0.0006711707667446496\n",
      "\u001b[1m2×7 DataFrame\u001b[0m\n",
      "\u001b[1m Row \u001b[0m│\u001b[1m chunk \u001b[0m\u001b[1m tuning \u001b[0m\u001b[1m pAccept  \u001b[0m\u001b[1m Rhat    \u001b[0m\u001b[1m ESS     \u001b[0m\u001b[1m mean      \u001b[0m\u001b[1m std       \u001b[0m\n",
      "\u001b[1m     \u001b[0m│\u001b[90m Int64 \u001b[0m\u001b[90m Bool   \u001b[0m\u001b[90m Float64  \u001b[0m\u001b[90m Float64 \u001b[0m\u001b[90m Float64 \u001b[0m\u001b[90m Float64   \u001b[0m\u001b[90m Float64   \u001b[0m\n",
      "─────┼─────────────────────────────────────────────────────────────────\n",
      "   1 │     7   false  0.340067  1.01203  162.278  0.0648873  0.0191057\n",
      "   2 │     7   false  0.340067  1.01543  110.041  0.0730798  0.009896\n"
     ]
    },
    {
     "data": {
      "text/plain": [
       "Chains MCMC chain (400×2×3 Array{Float64, 3}):\n",
       "\n",
       "Iterations        = 1:1:400\n",
       "Number of chains  = 3\n",
       "Samples per chain = 400\n",
       "parameters        = σ, ϕ\n",
       "\n",
       "Summary Statistics\n",
       " \u001b[1m parameters \u001b[0m \u001b[1m    mean \u001b[0m \u001b[1m     std \u001b[0m \u001b[1m naive_se \u001b[0m \u001b[1m    mcse \u001b[0m \u001b[1m      ess \u001b[0m \u001b[1m    rhat \u001b[0m\n",
       " \u001b[90m     Symbol \u001b[0m \u001b[90m Float64 \u001b[0m \u001b[90m Float64 \u001b[0m \u001b[90m  Float64 \u001b[0m \u001b[90m Float64 \u001b[0m \u001b[90m  Float64 \u001b[0m \u001b[90m Float64 \u001b[0m\n",
       "\n",
       "           σ    0.0649    0.0191     0.0006    0.0015   162.2780    1.0120\n",
       "           ϕ    0.0731    0.0099     0.0003    0.0008   110.0407    1.0154\n",
       "\n",
       "Quantiles\n",
       " \u001b[1m parameters \u001b[0m \u001b[1m    2.5% \u001b[0m \u001b[1m   25.0% \u001b[0m \u001b[1m   50.0% \u001b[0m \u001b[1m   75.0% \u001b[0m \u001b[1m   97.5% \u001b[0m\n",
       " \u001b[90m     Symbol \u001b[0m \u001b[90m Float64 \u001b[0m \u001b[90m Float64 \u001b[0m \u001b[90m Float64 \u001b[0m \u001b[90m Float64 \u001b[0m \u001b[90m Float64 \u001b[0m\n",
       "\n",
       "           σ    0.0385    0.0520    0.0623    0.0734    0.1159\n",
       "           ϕ    0.0527    0.0670    0.0729    0.0815    0.0919\n"
      ]
     },
     "metadata": {},
     "output_type": "display_data"
    }
   ],
   "source": [
    "# Run PMMH (algorithm 2)\n",
    "(θ, diag) = PMMH(naiveModel, Y, opts; verbose=true)\n",
    "chains = Chains(θ, opts[\"paramNames\"])"
   ]
  },
  {
   "cell_type": "code",
   "execution_count": 7,
   "metadata": {},
   "outputs": [],
   "source": [
    "# Fetch marginal posterior\n",
    "opts[\"predictiveValues\"] = true\n",
    "opts[\"forecastingHorizon\"] = 28\n",
    "X = marginalPosterior(naiveModel, θ, Y, opts);"
   ]
  },
  {
   "cell_type": "code",
   "execution_count": 8,
   "metadata": {},
   "outputs": [],
   "source": [
    "# Save model results\n",
    "using HDF5\n",
    "if isfile(\"temp/naiveResults.h5\")\n",
    "    rm(\"temp/naiveResults.h5\")\n",
    "end\n",
    "h5write(\"temp/naiveResults.h5\", \"X\", X)\n",
    "h5write(\"temp/naiveResults.h5\", \"theta\", θ)"
   ]
  }
 ],
 "metadata": {
  "kernelspec": {
   "display_name": "Julia 1.8.0",
   "language": "julia",
   "name": "julia-1.8"
  },
  "language_info": {
   "file_extension": ".jl",
   "mimetype": "application/julia",
   "name": "julia",
   "version": "1.8.0"
  }
 },
 "nbformat": 4,
 "nbformat_minor": 2
}
