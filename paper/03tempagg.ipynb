{
 "cells": [
  {
   "cell_type": "markdown",
   "metadata": {},
   "source": [
    "# Code for: temporally aggregated model"
   ]
  },
  {
   "cell_type": "code",
   "execution_count": 16,
   "metadata": {},
   "outputs": [],
   "source": [
    "using Plots, Measures\n",
    "\n",
    "include(\"../src/LoadData.jl\")\n",
    "include(\"../src/PMMH.jl\")\n",
    "include(\"../src/MarginalPosterior.jl\")\n",
    "include(\"../src/Support.jl\")\n",
    "\n",
    "# Load data\n",
    "Yin = loadData(\"NZCOVID_1APR2024\");\n",
    "\n",
    "# Calculate aggregated cases\n",
    "Yin.WeeklyCases = repeat([0], length(Yin.Ct))\n",
    "for ii = 1:length(Yin.Ct)\n",
    "    if ii % 7 == 0\n",
    "        Yin.WeeklyCases[ii] = sum(Yin.Ct[ii-6:ii])\n",
    "    end\n",
    "end\n",
    "\n",
    "# Use only the first 100 days when fitting the model\n",
    "Y = Yin[1:100,:];"
   ]
  },
  {
   "cell_type": "code",
   "execution_count": 17,
   "metadata": {},
   "outputs": [
    {
     "data": {
      "text/plain": [
       "temporallyAggregatedModel (generic function with 1 method)"
      ]
     },
     "metadata": {},
     "output_type": "display_data"
    }
   ],
   "source": [
    "function temporallyAggregatedModel(θ, Y::DataFrame, opts::Dict)\n",
    "    \n",
    "    # Extract frequently used options\n",
    "    T = opts[\"T\"]\n",
    "    N = opts[\"N\"]\n",
    "    L = opts[\"L\"]\n",
    "    ω = opts[\"ω\"]\n",
    "    delayDist = opts[\"delayDist\"]\n",
    "    h = opts[\"forecastingHorizon\"]\n",
    "    \n",
    "    # Initialise output matrices\n",
    "    R = zeros(N, T+h)\n",
    "    I = zeros(N, T+h)\n",
    "    W = ones(N, T)\n",
    "    \n",
    "    # And predictive values\n",
    "    μ = zeros(N, T+h) # Store expected cases to avoid resampling issues\n",
    "    C = zeros(N, T+h)\n",
    "    \n",
    "    # Sample from initial distributions\n",
    "    R[:,1] = rand(opts[\"pR0\"], N)\n",
    "    I[:,1] = rand(opts[\"pI0\"], N)\n",
    "    \n",
    "    # Run the filter\n",
    "    for tt = 2:T\n",
    "        \n",
    "        # Project according to the state-space model\n",
    "        R[:,tt] = exp.(rand.(Normal.(log.(R[:,tt-1]), θ[1])))\n",
    "        Λ = sum(I[:, (tt-1):-1:1] .* ω[1:(tt-1)]', dims=2) ./ sum(ω[1:(tt-1)])\n",
    "        I[:,tt] = rand.(Poisson.(R[:,tt] .* Λ))\n",
    "        \n",
    "        # Weight according to the observation model, but only on the day that we observe data\n",
    "        if tt % 7 == 0\n",
    "            \n",
    "            # Fetch expected reported cases\n",
    "            μt = zeros(N)\n",
    "            for ss = max(tt-6, 2):tt\n",
    "                μt = μt .+ (sum(I[:,(ss-1):-1:1] .* delayDist[1:(ss-1)]', dims=2) ./ sum(delayDist[1:(ss-1)]))\n",
    "            end\n",
    "            \n",
    "            # Calculate weights\n",
    "            r = 1/θ[2]\n",
    "            p = 1 ./ (1 .+ θ[2] * μt)\n",
    "            W[:,tt] = pdf.(NegativeBinomial.(r, p), Y.WeeklyCases[tt])\n",
    "            \n",
    "            # Resample\n",
    "            inds = wsample(1:N, W[:,tt], N; replace=true)\n",
    "            R[:, max(tt - L, 1):tt] = R[inds, max(tt - L, 1):tt]\n",
    "            I[:, max(tt - L, 1):tt] = I[inds, max(tt - L, 1):tt]\n",
    "\n",
    "            # Store expected cases if we are finding predictive posterior\n",
    "            if opts[\"predictiveValues\"]\n",
    "                μ[:,tt] = μt\n",
    "                μ[:,max(tt-L,1):tt] = μ[inds,max(tt-L,1):tt]\n",
    "            end\n",
    "            \n",
    "        end\n",
    "        \n",
    "    end\n",
    "    \n",
    "    # Fetch predictive values\n",
    "    if opts[\"predictiveValues\"]\n",
    "        for tt = 2:T\n",
    "            if tt % 7 == 0\n",
    "                r = 1/θ[2]\n",
    "                p = 1 ./ (1 .+ θ[2] * μ[:,tt])\n",
    "                C[:,tt] = rand.(NegativeBinomial.(r, p))\n",
    "            end\n",
    "        end\n",
    "    end\n",
    "    \n",
    "    # Fetch forecasting values\n",
    "    if h > 0\n",
    "        for ss = (T+1):(T+h)\n",
    "            R[:,ss] = exp.(rand.(Normal.(log.(R[:,ss-1]), θ[1])))\n",
    "            Λ = sum(I[:, ss:-1:1] .* ω[1:ss]', dims=2) ./ sum(ω[1:ss]) # normalise to avoid need for wind-in\n",
    "            I[:,ss] = rand.(Truncated.(Poisson.(R[:,ss] .* Λ), 0, 1e6))\n",
    "            if ss % 7 == 0\n",
    "                μt = zeros(N)\n",
    "                for uu = max(ss-6, 2):ss\n",
    "                    μt = μt .+ (sum(I[:,(uu-1):-1:1] .* delayDist[1:(uu-1)]', dims=2) ./ sum(delayDist[1:(uu-1)]))\n",
    "                end\n",
    "                r = 1/θ[2]\n",
    "                p = 1 ./ (1 .+ θ[2] * μt)\n",
    "                C[:,ss] = rand.(NegativeBinomial.(r, p))\n",
    "            end\n",
    "        end\n",
    "    end\n",
    "    \n",
    "    # Store output as three-dimensional array\n",
    "    X = zeros(N, T+h, 3)\n",
    "    X[:,:,1] = R\n",
    "    X[:,:,2] = I\n",
    "    X[:,:,3] = C\n",
    "    \n",
    "    # Forecast\n",
    "    return(X, W)\n",
    "    \n",
    "end\n"
   ]
  },
  {
   "cell_type": "code",
   "execution_count": 18,
   "metadata": {},
   "outputs": [],
   "source": [
    "opts = Dict(\n",
    "\n",
    "    # Bootstrap filter options\n",
    "    \"T\" => size(Y, 1), # Number of time-steps\n",
    "    \"N\" => 1000, # Number of particles\n",
    "    \"L\" => 50, # Fixed-lag resampling length\n",
    "    \"ω\" => pdf.(Gamma(2.36, 2.74), 1:128), # Serial interval\n",
    "    \"delayDist\" => pdf.(Gamma(5.72, 0.96), 1:200), # Observation delay distribution\n",
    "    \"pR0\" => Uniform(0, 10), # Prior on Rt at t = 0\n",
    "    \"pI0\" => DiscreteUniform(200, 600), # Prior on I at t = 0\n",
    "    \"predictiveValues\" => false, # Whether to calculate predictive cases\n",
    "    \"forecastingHorizon\" => 0, # Number of days to forecast\n",
    "\n",
    "    # PMMH options\n",
    "    \"nChains\" => 3, # Number of chains\n",
    "    \"chunkSize\" => 100, # Number of iterations\n",
    "    \"maxChunks\" => 50, # Maximum number of chunks\n",
    "    \"maxRhat\" => 1.05,  # Stopping criterion: maximum Rhat value\n",
    "    \"minESS\" => 100, # Stopping criterion: minimum effective sample size\n",
    "    \"showChunkProgress\" => true, # Whether to show progress of each chunk\n",
    "    \"propStdDevInit\" => sqrt.([0.01, 0.001]), # Initial proposal standard deviation (this is adaptively fit)\n",
    "    \"paramPriors\" => [Uniform(0, 1), Uniform(0, 0.1)],\n",
    "    \"initialParamSamplers\" => [Uniform(0.05, 0.2), Uniform(0.01, 0.02)],\n",
    "    \"paramLimits\" => [(0, 1), (0, 0.1)],\n",
    "    \"paramNames\" => [\"σ\", \"ϕ\"],\n",
    "\n",
    "    # Marginal posterior options\n",
    "    \"posteriorNumberOfParticles\" => 10000,\n",
    "    \"posteriorParamSamples\" => 100\n",
    "\n",
    ");"
   ]
  },
  {
   "cell_type": "code",
   "execution_count": 19,
   "metadata": {},
   "outputs": [
    {
     "data": {
      "text/plain": [
       "Chains MCMC chain (1200×2×3 Array{Float64, 3}):\n",
       "\n",
       "Iterations        = 1:1:1200\n",
       "Number of chains  = 3\n",
       "Samples per chain = 1200\n",
       "parameters        = σ, ϕ\n",
       "\n",
       "Summary Statistics\n",
       " \u001b[1m parameters \u001b[0m \u001b[1m    mean \u001b[0m \u001b[1m     std \u001b[0m \u001b[1m naive_se \u001b[0m \u001b[1m    mcse \u001b[0m \u001b[1m      ess \u001b[0m \u001b[1m    rhat \u001b[0m\n",
       " \u001b[90m     Symbol \u001b[0m \u001b[90m Float64 \u001b[0m \u001b[90m Float64 \u001b[0m \u001b[90m  Float64 \u001b[0m \u001b[90m Float64 \u001b[0m \u001b[90m  Float64 \u001b[0m \u001b[90m Float64 \u001b[0m\n",
       "\n",
       "           σ    0.0704    0.0237     0.0004    0.0016   160.7627    1.0077\n",
       "           ϕ    0.0084    0.0099     0.0002    0.0009   101.4389    1.0080\n",
       "\n",
       "Quantiles\n",
       " \u001b[1m parameters \u001b[0m \u001b[1m    2.5% \u001b[0m \u001b[1m   25.0% \u001b[0m \u001b[1m   50.0% \u001b[0m \u001b[1m   75.0% \u001b[0m \u001b[1m   97.5% \u001b[0m\n",
       " \u001b[90m     Symbol \u001b[0m \u001b[90m Float64 \u001b[0m \u001b[90m Float64 \u001b[0m \u001b[90m Float64 \u001b[0m \u001b[90m Float64 \u001b[0m \u001b[90m Float64 \u001b[0m\n",
       "\n",
       "           σ    0.0393    0.0548    0.0669    0.0793    0.1318\n",
       "           ϕ    0.0012    0.0033    0.0052    0.0093    0.0384\n"
      ]
     },
     "metadata": {},
     "output_type": "display_data"
    }
   ],
   "source": [
    "# Run PMMH (algorithm 2)\n",
    "(θ, diag) = PMMH(temporallyAggregatedModel, Y, opts; verbose=false)\n",
    "chains = Chains(θ, opts[\"paramNames\"])"
   ]
  },
  {
   "cell_type": "code",
   "execution_count": 20,
   "metadata": {},
   "outputs": [],
   "source": [
    "# Fetch marginal posterior\n",
    "opts[\"predictiveValues\"] = true\n",
    "opts[\"forecastingHorizon\"] = 28\n",
    "X = marginalPosterior(temporallyAggregatedModel, θ, Y, opts);"
   ]
  },
  {
   "cell_type": "code",
   "execution_count": 21,
   "metadata": {},
   "outputs": [],
   "source": [
    "# Save model results\n",
    "using HDF5\n",
    "if isfile(\"temp/temporallyAggregatedResults.h5\")\n",
    "    rm(\"temp/temporallyAggregatedResults.h5\")\n",
    "end\n",
    "h5write(\"temp/temporallyAggregatedResults.h5\", \"X\", X)\n",
    "h5write(\"temp/temporallyAggregatedResults.h5\", \"theta\", θ)"
   ]
  }
 ],
 "metadata": {
  "kernelspec": {
   "display_name": "Julia 1.8.0",
   "language": "julia",
   "name": "julia-1.8"
  },
  "language_info": {
   "file_extension": ".jl",
   "mimetype": "application/julia",
   "name": "julia",
   "version": "1.8.0"
  }
 },
 "nbformat": 4,
 "nbformat_minor": 2
}
