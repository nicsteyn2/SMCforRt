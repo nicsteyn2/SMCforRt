{
  "cells": [
    {
      "cell_type": "markdown",
      "metadata": {},
      "source": [
        "# Simulated data\n",
        "\n",
        "It is useful to test our models on simulated data where we know what the true value of $R_t$ is. Our simulations are broken into two stages:\n",
        "\n",
        "1. Simulating the underlying epidemic\n",
        "2. Simulating the observation process\n",
        "\n",
        "Unsurprisingly, these correspond to the state-space model and observation model in the SMC algorithm.\n",
        "\n",
        "## Simulating the underlying epidemic\n",
        "\n",
        "All our simulations leverage the *Poisson renewal model*:\n",
        "\n",
        "$$ I_t \\sim \\text{Poisson}(R_t \\Lambda_t) $$\n",
        "\n",
        "where the *force-of-infection* is defined as:\n",
        "\n",
        "$$ \\Lambda_t = \\sum_{u = 0}^{t-1} I_{t-u} g_u $$\n",
        "\n",
        "for some generation time distriubtion $g_u$.\n",
        "\n",
        "Unless otherwise stated, we assume a Gaussian random walk for $\\log R_t$:\n",
        "\n",
        "$$ \\log R_t \\sim \\text{Normal}(\\log R_{t-1}, \\sigma) $$\n",
        "\n",
        "where $\\sigma$ determines how quickly $R_t$ varies. This matches the state-space model assumed by our default methods.\n",
        "\n",
        "Simulations are initialised with $I_1$ infections (default 10) and an initial value of $R_1$ (default 2). We then iteratively sample $R_t$ and $I_t$ from the above model for $t = 2, ..., T$ (default $T = 100$). The core script looks like:\n",
        "\n",
        "```julia\n",
        "# Initialise vectors\n",
        "logRt = zeros(T)\n",
        "logRt[1] = log(R1)\n",
        "It = zeros(T)\n",
        "It[1] = log(I1)\n",
        "\n",
        "for tt = 2:T\n",
        "    # Sample logRt from a normal distribution\n",
        "    logRt[tt] = rand(Normal(logRt[tt], σ))\n",
        "\n",
        "    # Calculate the force of infection\n",
        "    Λt = sum(It[tt-1:-1:1] .* g[1:tt-1]) \n",
        "\n",
        "    # Sample the number of new infections\n",
        "    It[tt] = rand(Poisson(exp(logRt[tt]) * Λt))\n",
        "end\n",
        "\n",
        "# Combine into a single dataframe\n",
        "Y = DataFrame(t=1:T, It=It, Rt=Rt)\n",
        "```\n",
        "\n",
        "Although additional code is included to ensure that total infections are between 100 and 100,000 (by default) and that $R_t$ is between 0.2 and 5 (by default). The resulting function ```simulateSimpleEpidemic()``` is provided in ```/src/Simulations.jl```. We call it here:"
      ]
    },
    {
      "cell_type": "code",
      "metadata": {},
      "source": [
        "# using Random, Plots\n",
        "# Random.seed!(42)\n",
        "\n",
        "# include(\"../src/Simulations.jl\")\n",
        "\n",
        "# Y = simulateSimpleEpidemic()\n",
        "\n",
        "# plot(plot(Y.Rt, ylabel=\"Reproduction number\", label=false), plot(Y.It, ylabel=\"Infections\", label=false), layout=(2,1))"
      ],
      "execution_count": null,
      "outputs": []
    },
    {
      "cell_type": "markdown",
      "metadata": {},
      "source": [
        "*This is also the script that was used to generate \"simulated_simple.csv\". We save it instead of calling it each time as the Random seed is not consistent between environments.*\n",
        "\n",
        "\n",
        "## Simulating the observation process\n",
        "\n",
        "If we are simulating the simple model then we set $C_t = I_t$ (reported cases = infections) and we are done. Or we can simulate from any number of observation processes. We outline some here.\n",
        "\n",
        "*All functions created here are included in ```src/Simulations.jl```.*\n",
        "\n",
        "### Binomial reporting\n",
        "\n",
        "In the simple underreporting case, we might have:\n",
        "$$ C_t \\sim \\text{Binomial}(I_t, \\rho) $$\n",
        "\n",
        "for some underreporting fraction $\\rho$. We can implement this as:"
      ]
    },
    {
      "cell_type": "code",
      "metadata": {},
      "source": [
        "using Distributions\n",
        "\n",
        "# function simulateBinomialReporting(It, ρ)\n",
        "\n",
        "#     Ct = rand.(Binomial.(It, ρ))\n",
        "#     return(Ct)\n",
        "\n",
        "# end\n",
        "\n",
        "# Y.Ct = simulateBinomialReporting(Y.It, 0.5)\n",
        "\n",
        "# plot(Y.It, ylabel=\"Infections\", label=\"True infections\", title=\"Binomial reporting example\", size=(800,400), dpi=300)\n",
        "# plot!(Y.Ct, label=\"Reported cases\")"
      ],
      "execution_count": null,
      "outputs": []
    },
    {
      "cell_type": "markdown",
      "metadata": {},
      "source": [
        "### Delayed reporting\n",
        "\n",
        "Or we might assume that cases are underreported and delayed:\n",
        "$$ C_t \\sim \\text{Binomial}\\left(\\sum_{u=0}^{u_{max}} I_{t-u} d_u, \\ \\rho\\right) $$\n",
        "\n",
        "If we assume $\\rho = 80\\%$ of cases are reported, and the delay distribution is negative binomial with mean 5.6 and standard deviation 3.2, we can implement:"
      ]
    },
    {
      "cell_type": "code",
      "metadata": {},
      "source": [
        "# function simulateBinomialUnderreportNegBinDelay(It, ρ, r, p)\n",
        "\n",
        "#     d = pdf.(NegativeBinomial(r, p), 0:length(It))\n",
        "#     DelayedIt = round.([sum(It[tt:-1:1] .* d[1:tt]) for tt = 1:length(It)])\n",
        "#     Ct = rand.(Binomial.(DelayedIt, ρ))\n",
        "#     return(Ct)\n",
        "\n",
        "# end\n",
        "\n",
        "# Y.Ct = simulateBinomialUnderreportNegBinDelay(Y.It, 0.8, 7, 5/9)\n",
        "\n",
        "# plot(Y.It, ylabel=\"Infections\", label=\"True infections\", title=\"Binomial reporting and negative binomial delay\", size=(800,400), dpi=300)\n",
        "# plot!(Y.Ct, label=\"Reported cases\")"
      ],
      "execution_count": null,
      "outputs": []
    },
    {
      "cell_type": "markdown",
      "metadata": {},
      "source": [
        "## Extensions\n",
        "\n",
        "### Including imported cases\n"
      ]
    }
  ],
  "metadata": {
    "kernelspec": {
      "name": "julia-_n-threads_-1.8",
      "language": "julia",
      "display_name": "Julia (n threads) 1.8.0",
      "path": "/Users/nicsteyn/Library/Jupyter/kernels/julia-_n-threads_-1.8"
    }
  },
  "nbformat": 4,
  "nbformat_minor": 4
}