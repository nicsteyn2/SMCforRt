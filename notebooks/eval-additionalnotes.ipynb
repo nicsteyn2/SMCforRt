{
  "cells": [
    {
      "cell_type": "markdown",
      "metadata": {},
      "source": [
        "# Additional notes on model evaluation\n",
        "\n",
        "The model evaluation section remains under-developed. Included here are notes that will hopefully eventually find a more suitable home.\n",
        "\n",
        "## KL-divergence of nested models\n",
        "\n",
        "[#TODO]"
      ]
    }
  ],
  "metadata": {
    "kernelspec": {
      "name": "python3",
      "language": "python",
      "display_name": "Python 3 (ipykernel)",
      "path": "/Users/nicsteyn/anaconda3/share/jupyter/kernels/python3"
    }
  },
  "nbformat": 4,
  "nbformat_minor": 4
}