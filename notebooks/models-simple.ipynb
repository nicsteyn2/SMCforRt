{
  "cells": [
    {
      "cell_type": "markdown",
      "metadata": {},
      "source": [
        "# Introductory models  {#sec-models-simple}\n",
        "\n",
        "<!-- ---\n",
        "eval: false\n",
        "--- -->\n",
        "\n",
        "We begin by fitting the three example models introduced in @sec-intro-hiddenstatemodels-examples of @sec-intro-hiddenstatemodels to real-world data.\n",
        "\n",
        "First we load and plot the data we will use for our examples. These are the national reported cases for the first 100 days of the COVID-19 pandemic in Aotearoa New Zealand [@ministryofhealthnzNewZealandCOVID192024], downloaded from [here](https://github.com/minhealthnz/nz-covid-data)."
      ]
    },
    {
      "cell_type": "code",
      "metadata": {},
      "source": [
        "#| fig-cap: Reported cases for the first 100 days of the COVID-19 pandemic in Aotearoa New Zealand [@ministryofhealthnzNewZealandCOVID192024].\n",
        "#| label: fig-models-simple-data\n",
        "\n",
        "include(\"../src/LoadData.jl\")\n",
        "Y = loadData(\"NZCOVID\")\n",
        "\n",
        "using Plots, Measures\n",
        "bar(Y.date, Y.Ct, color=:darkblue, size=(800,400), xlabel=\"Date\", ylabel=\"Reported cases\", label=false, margins=3mm)"
      ],
      "execution_count": null,
      "outputs": []
    },
    {
      "cell_type": "markdown",
      "metadata": {},
      "source": [
        "## Example 1: indepdendent daily estimates\n",
        "\n",
        "In this example, we use a Gamma$(1, 0.2)$ prior distribution for $R_t$ which forms the **state-space transition distribution**:\n",
        "\n",
        "$$\n",
        "R_t \\sim \\text{Gamma}(1, 1/0.2)\n",
        "$$\n",
        "\n",
        "and use the Poisson renewal model (with a Gamma(2.36, 27.4) distribution for the serial interval) for the **observation distribution**:\n",
        "\n",
        "$$\n",
        "C_t | R_t, C_{1:t-1} \\sim \\text{Poisson}\\left(R_t \\sum_{u=1}^{u_{max}} C_{t-u} \\omega_u\\right)\n",
        "$$\n",
        "\n",
        "We write this as a hidden-state model in Julia:"
      ]
    },
    {
      "cell_type": "code",
      "metadata": {},
      "source": [
        "#| output: false\n",
        "\n",
        "function ExampleModel1(θ, Y::DataFrame, opts::Dict)\n",
        "\n",
        "    # Extract frequently used options\n",
        "    T = opts[\"T\"] # Number of time steps\n",
        "    N = opts[\"N\"] # Number of particles to use\n",
        "\n",
        "    # Define the serial interval\n",
        "    ω = pdf.(Gamma(2.36, 2.74), 1:100) # (Unnormalised) serial interval\n",
        "    ω = ω/sum(ω) # Normalise the serial interval\n",
        "\n",
        "    # Initialise output matrices\n",
        "    R = zeros(N, T) # Matrix to store particle values\n",
        "    W = zeros(N, T) # Matrix to store model weights\n",
        "\n",
        "    # Run the filter\n",
        "    for tt = 2:T\n",
        "\n",
        "        # \"Project\" according to the state-space model\n",
        "        R[:,tt] = rand(Gamma.(1, 1/0.2), N)\n",
        "\n",
        "        # Weight according to the observation model\n",
        "        Λ = sum(Y.Ct[tt-1:-1:1] .* ω[1:tt-1])/sum(ω[1:tt-1]) # Calculate the force-of-infection\n",
        "        W[:,tt] = pdf.(Poisson.(R[:,tt] .* Λ), Y.Ct[tt])\n",
        "\n",
        "        # Resample\n",
        "        inds = wsample(1:N, W[:,tt], N; replace=true)\n",
        "        R[:, tt] = R[inds, tt]\n",
        "\n",
        "    end\n",
        "\n",
        "    return(R, W)\n",
        "\n",
        "end"
      ],
      "execution_count": null,
      "outputs": []
    },
    {
      "cell_type": "markdown",
      "metadata": {},
      "source": [
        "::: {.callout-tip}\n",
        "\n",
        "As there is no autocorrelation in the state-space model, and the observation distributon depends only on the hidden-states at time $t$, we do not need to bother with any fixed-lag resampling.\n",
        "\n",
        ":::\n",
        "\n",
        "There are no parameters to estimate, so we simply fit this model to the data:"
      ]
    },
    {
      "cell_type": "code",
      "metadata": {},
      "source": [
        "#| output: false\n",
        "\n",
        "# Specify bootstrap filter options (the {String, Any} term allows us to use any type of value in this dictionary)\n",
        "opts = Dict{String, Any}(\"N\" => 1000, \"T\" => 100)\n",
        "\n",
        "# Fit the model\n",
        "(R, W) = ExampleModel1(missing, Y, opts) # θ is missing as there are no \"parameters\" in this model!\n",
        "\n",
        "# Extract posterior means and credible intervals\n",
        "MeanRt = vec(mean(R, dims=1)) # \"dims=1\" tells Julia to take column-wise means, vec(.) turns the resulting 1xN matrix into a vector\n",
        "LowerRt = [quantile(Rt, 0.025) for Rt in eachcol(R)]\n",
        "UpperRt = [quantile(Rt, 0.975) for Rt in eachcol(R)]"
      ],
      "execution_count": null,
      "outputs": []
    },
    {
      "cell_type": "markdown",
      "metadata": {},
      "source": [
        "We can also find the posterior means and credible intervals for this model analytically (@sec-intro-Rtestimation), useful for checking our algorithm."
      ]
    },
    {
      "cell_type": "code",
      "metadata": {},
      "source": [
        "#| code-fold: true\n",
        "#| output: false\n",
        "\n",
        "(MeanRtTrue, LowerRtTrue, UpperRtTrue) = (zeros(opts[\"T\"]), zeros(opts[\"T\"]), zeros(opts[\"T\"])) # Pre-allocate results vectors\n",
        "(a0, b0) = (1, 1/5) # Set prior parameters\n",
        "\n",
        "# Define the serial interval\n",
        "ω = pdf.(Gamma(2.36, 2.74), 1:100) # (Unnormalised) serial interval\n",
        "ω = ω/sum(ω) # Normalise the serial interval\n",
        "\n",
        "for tt = 2:opts[\"T\"]\n",
        "\n",
        "    # Find the posterior distribution on day t\n",
        "    a = a0 + Y.Ct[tt]\n",
        "    b = b0 + sum(Y.Ct[tt-1:-1:1] .* ω[1:tt-1])/sum(ω[1:tt-1])\n",
        "    PosteriorDist = Gamma(a, 1/b)\n",
        "\n",
        "    # Save the results\n",
        "    MeanRtTrue[tt] = mean(PosteriorDist)\n",
        "    LowerRtTrue[tt] = quantile(PosteriorDist, 0.025)\n",
        "    UpperRtTrue[tt] = quantile(PosteriorDist, 0.975)\n",
        "\n",
        "end"
      ],
      "execution_count": null,
      "outputs": []
    },
    {
      "cell_type": "markdown",
      "metadata": {},
      "source": [
        "Plotting the estimates from the bootstrap filter against the analytical posterior mean and credible intervals demonstrates the SMC approxmation is high quality."
      ]
    },
    {
      "cell_type": "code",
      "metadata": {},
      "source": [
        "#| fig-cap: Reproduction number estimates from example model 1 fit to data from the first 100 days of COVID-19 in Aotearoa New Zealand. N = 1000 particles are used in the SMC approxmation, resulting in a very good approximation to the analytical posterior means and credible intervals over time.\n",
        "#| label: fig-models-simple-example1\n",
        "\n",
        "# Process the results and plot\n",
        "pltR = plot(size=(800,400), xlabel=\"Date\", ylabel=\"Reproduction number\", margins=3mm)\n",
        "pltR = plot!(pltR, Y.date, MeanRtTrue, ribbon=(MeanRtTrue-LowerRtTrue, UpperRtTrue-MeanRtTrue), color=:lightgreen, label=\"Rt (analytical)\")\n",
        "pltR = plot!(pltR, Y.date, MeanRt, ribbon=(MeanRt-LowerRt, UpperRt-MeanRt), color=:darkgreen, label=\"Rt (from SMC)\")\n",
        "hline!([1], color=:black, linestyle=:dash, label=\"Rt = 1\")"
      ],
      "execution_count": null,
      "outputs": []
    },
    {
      "cell_type": "markdown",
      "metadata": {},
      "source": [
        "## Example 2: temporally smoothed estimates\n",
        "\n",
        "@fig-models-simple-example1 demonstrates considerable variability in $R_t$ estimates. In pratice, we want to produce smoothed estimates ([@sec-intro-smoothing]).\n",
        "\n",
        "We update the **state-space model** to use a Gaussian random walk on $\\log R_t$:\n",
        "\n",
        "$$\n",
        "\\log R_t | \\log R_{t-1} \\sim \\text{Normal}(\\log R_{t-1}, \\sigma)\n",
        "$$\n",
        "\n",
        "and retain the same **observation model**:\n",
        "\n",
        "$$\n",
        "C_t | R_t, C_{1:t-1} \\sim \\text{Poisson}\\left(R_t \\sum_{u=1}^{u_{max}} C_{t-u} \\omega_u\\right)\n",
        "$$\n",
        "\n",
        "\n",
        "In Julia:"
      ]
    },
    {
      "cell_type": "code",
      "metadata": {},
      "source": [
        "#| output: false\n",
        "\n",
        "function ExampleModel2(θ, Y::DataFrame, opts::Dict)\n",
        "\n",
        "    # Extract frequently used options\n",
        "    T = opts[\"T\"] # Number of time steps\n",
        "    N = opts[\"N\"] # Number of particles to use\n",
        "    L = opts[\"L\"] # Length of fixed-lag resampling\n",
        "\n",
        "    # Define the serial interval\n",
        "    ω = pdf.(Gamma(2.36, 2.74), 1:100) # (Unnormalised) serial interval\n",
        "    ω = ω/sum(ω) # Normalise the serial interval\n",
        "\n",
        "    # Initialise output matrices\n",
        "    R = zeros(N, T) # Matrix to store particle values\n",
        "    W = zeros(N, T) # Matrix to store model weights\n",
        "\n",
        "    # Sample from initial distribution\n",
        "    R[:,1] = rand(Uniform(0, 10), N)\n",
        "\n",
        "    # Run the filter\n",
        "    for tt = 2:T\n",
        "\n",
        "        # Project according to the state-space model\n",
        "        R[:,tt] = exp.(rand.(Normal.(log.(R[:,tt-1]), θ[1])))\n",
        "\n",
        "        # Weight according to the observation model\n",
        "        Λ = sum(Y.Ct[tt-1:-1:1] .* ω[1:tt-1])/sum(ω[1:tt-1]) # Calculate the force-of-infection\n",
        "        W[:,tt] = pdf.(Poisson.(R[:,tt] .* Λ), Y.Ct[tt])\n",
        "\n",
        "        # Resample\n",
        "        inds = wsample(1:N, W[:,tt], N; replace=true)\n",
        "        R[:, max(tt - L, 1):tt] = R[inds, max(tt - L, 1):tt]\n",
        "\n",
        "    end\n",
        "\n",
        "    return(R, W)\n",
        "\n",
        "end"
      ],
      "execution_count": null,
      "outputs": []
    },
    {
      "cell_type": "markdown",
      "metadata": {},
      "source": [
        "Now we have parameter $\\sigma$ to estimate. We use PMMH to do this. First, we define our model-fitting options:"
      ]
    },
    {
      "cell_type": "code",
      "metadata": {},
      "source": [
        "opts = Dict(\n",
        "\n",
        "    # Bootstrap filter options\n",
        "    \"T\" => size(Y, 1), # Number of time-steps\n",
        "    \"N\" => 1000, # Number of particles\n",
        "    \"L\" => 50, # Fixed-lag resampling length\n",
        "    \"ω\" => pdf.(Gamma(2.36, 2.74), 1:100), # Serial interval\n",
        "    \"pR0\" => Uniform(0, 10), # Prior on Rt at t = 0\n",
        "    \"predictiveValues\" => false, # Whether to calculate predictive cases\n",
        "\n",
        "    # PMMH options\n",
        "    \"nChains\" => 3, # Number of chains\n",
        "    \"chunkSize\" => 100, # Number of iterations per chunk\n",
        "    \"maxChunks\" => 50, # Maximum number of chunks\n",
        "    \"maxRhat\" => 1.05,  # Stopping criterion: maximum Rhat value\n",
        "    \"minESS\" => 100, # Stopping criterion: minimum effective sample size\n",
        "    \"showChunkProgress\" => true, # Whether to show progress of each chunk\n",
        "    \"propStdDevInit\" => [0.1], # Initial proposal standard deviation (this is adaptively fit)\n",
        "    \"paramPriors\" => [Uniform(0, 1)],\n",
        "    \"initialParamSamplers\" => [Uniform(0.1, 0.3)],\n",
        "    \"paramLimits\" => [(0, 1)],\n",
        "    \"paramNames\" => [\"σ\"]\n",
        ");"
      ],
      "execution_count": null,
      "outputs": []
    },
    {
      "cell_type": "markdown",
      "metadata": {},
      "source": [
        "And the ``PMMH()`` function handles the rest:"
      ]
    },
    {
      "cell_type": "code",
      "metadata": {},
      "source": [
        "include(\"../src/PMMH.jl\")\n",
        "\n",
        "(θ, diag) = PMMH(ExampleModel2, Y, opts; verbose=false) #  Set verbose = true to see \n",
        "\n",
        "Chains(θ, opts[\"paramNames\"])"
      ],
      "execution_count": null,
      "outputs": []
    },
    {
      "cell_type": "markdown",
      "metadata": {},
      "source": [
        "Which tells us $\\sigma = 0.24 \\ (0.17, 0.33)$.\n",
        "\n",
        "In isolation, this isn't a particularly useful quantity. We actually care about the estimates of $R_t$, ideally after accouting for uncertainty about $\\sigma$. We do this by marginalising out this parameter - this is performed by the ``marginalPosterior()`` function.\n",
        "\n",
        "First, we need to specify two more options, to tell the function to run the bootstrap filter at 100 samples of $\\sigma$, for 1,000 particles each (a total of 100,000 particles)."
      ]
    },
    {
      "cell_type": "code",
      "metadata": {},
      "source": [
        "opts[\"posteriorNumberOfParticles\"] = 1000;\n",
        "opts[\"posteriorParamSamples\"] = 100;"
      ],
      "execution_count": null,
      "outputs": []
    },
    {
      "cell_type": "markdown",
      "metadata": {},
      "source": [
        "We can then call the ``marginalPosterior()`` function, also processing and plotting the output:"
      ]
    },
    {
      "cell_type": "code",
      "metadata": {},
      "source": [
        "include(\"../src/MarginalPosterior.jl\")\n",
        "\n",
        "R = marginalPosterior(ExampleModel2, θ, Y, opts; showProgress=true)\n",
        "\n",
        "(MeanRt2, MedianRt2, LowerRt2, UpperRt2) = processResults(R) # This is a helper function which calculates columnwise summary statistics\n",
        "\n",
        "pltR2 = plot(size=(800,400), xlabel=\"Date\", ylabel=\"Reproduction number\", margins=3mm)\n",
        "pltR2 = plot!(pltR2, Y.date, MeanRt2, ribbon=(MeanRt2-LowerRt2, UpperRt2-MeanRt2), color=:darkgreen, label=false)\n",
        "hline!([1], color=:black, linestyle=:dash, label=\"Rt = 1\")"
      ],
      "execution_count": null,
      "outputs": []
    },
    {
      "cell_type": "markdown",
      "metadata": {},
      "source": [
        "Which demonstrates much smoother estimates of $R_t$. However, this model does not allow for observation noise, other than in the stochasticity in transmission (the Poisson renewal model). In practice, reported cases are noisy observations of true infections - the final example accounts for this.\n",
        "\n",
        "## Example 3: with observation noise\n",
        "\n",
        "To allow for observation noise, we now employ the Poisson renewal model in the **state-space model**, using $I_t$ to represent unobserved infections:\n",
        "\n",
        "$$\n",
        "\\log R_t | \\log R_{t-1} \\sim \\text{Normal}(\\log R_{t-1}, \\sigma)\n",
        "$$\n",
        "\n",
        "$$\n",
        "I_t | R_t, I_{1:t-1} \\sim \\text{Poisson}\\left(R_t \\sum_{u=1}^{u_{max}} I_{t-u} \\omega_u\\right)\n",
        "$$\n",
        "\n",
        "and assume that reported cases follow a negative binomial distribution with mean $I_t$ and variance $I_t + \\phi I_t^2$ (the **observation model**):\n",
        "\n",
        "$$\n",
        "C_t | I_t \\sim \\text{Negative Binomial}\\left(r=\\frac{1}{\\phi}, p=\\frac{1}{1+\\phi I_t} \\right)\n",
        "$$\n",
        "\n",
        "For simplicity, we use the same PMF for $\\omega_u$ here, even though it now represents the generation time distribution (time from infection-to-infection), rather than the serial interval (time from reporting-to-reporting).\n",
        "\n",
        "We have two fixed parameters: $\\sigma$ and $\\phi$, with the latter controlling the level of observation noise.\n",
        "\n",
        "Writing this as a bootstrap filter in Julia:"
      ]
    },
    {
      "cell_type": "code",
      "metadata": {},
      "source": [
        "#| output: false\n",
        "\n",
        "function ExampleModel3(θ, Y::DataFrame, opts::Dict)\n",
        "\n",
        "    # Extract frequently used options\n",
        "    T = opts[\"T\"] # Number of time steps\n",
        "    N = opts[\"N\"] # Number of particles to use\n",
        "    L = opts[\"L\"] # Length of fixed-lag resampling\n",
        "\n",
        "    # Define the serial interval\n",
        "    ω = pdf.(Gamma(2.36, 2.74), 1:100) # (Unnormalised) serial interval\n",
        "    ω = ω/sum(ω) # Normalise the serial interval\n",
        "\n",
        "    # Initialise output matrices\n",
        "    R = zeros(N, T) # Matrix to store particle values\n",
        "    I = zeros(N, T) # Local infections\n",
        "    W = zeros(N, T) # Matrix to store model weights\n",
        "\n",
        "    # Sample from initial distribution\n",
        "    R[:,1] = rand(Uniform(0, 10), N)\n",
        "    I[:,1] = rand.(opts[\"pI0\"], N)\n",
        "\n",
        "    # Run the filter\n",
        "    for tt = 2:T\n",
        "\n",
        "    # Project according to the state-space model\n",
        "        R[:,tt] = exp.(rand.(Normal.(log.(R[:,tt-1]), θ[1])))\n",
        "        \n",
        "        # Calculate force-of-infection and sample infections\n",
        "        Λ = sum(I[:,tt-1:-1:1]  .* opts[\"ω\"][1:tt-1]', dims=2)\n",
        "        I[:,tt] = rand.(Poisson.(R[:,tt] .* Λ))\n",
        "\n",
        "        # Weight according to the observation model\n",
        "        r = 1/θ[2]\n",
        "        p = 1 ./ (1 .+ θ[2] * I[:,tt])\n",
        "        W[:,tt] = pdf.(NegativeBinomial.(r, p), Y.local[tt])\n",
        "\n",
        "        # Resample\n",
        "        inds = wsample(1:N, W[:,tt], N; replace=true)\n",
        "        R[:, max(tt - L, 1):tt] = R[inds, max(tt - L, 1):tt]\n",
        "        I[:, max(tt - L, 1):tt] = I[inds, max(tt - L, 1):tt]\n",
        "\n",
        "    end\n",
        "\n",
        "    # Store output as three-dimensional array\n",
        "    X = zeros(N, T, 2)\n",
        "    X[:,:,1] = R\n",
        "    X[:,:,2] = I\n",
        "\n",
        "    return(X, W)\n",
        "\n",
        "end"
      ],
      "execution_count": null,
      "outputs": []
    },
    {
      "cell_type": "markdown",
      "metadata": {},
      "source": [
        "This time we use ``fitModel()`` function to perform parameter inference and marginalistion in a single step. We also update some PMMH options to reflect the additional parameter being estimated."
      ]
    },
    {
      "cell_type": "code",
      "metadata": {},
      "source": [
        "include(\"../src/FitModel.jl\")\n",
        "\n",
        "opts[\"pI0\"] = Dirac(1) # Initial distiribution for It at t = 0, we assume one case to start the epidemic\n",
        "\n",
        "opts[\"propStdDevInit\"] = sqrt.([0.1, 0.01])\n",
        "opts[\"paramPriors\"] = [Uniform(0, 1), Uniform(0, 1)]\n",
        "opts[\"initialParamSamplers\"] = [Uniform(0.1, 0.3), Uniform(0.01, 0.03)]\n",
        "opts[\"paramLimits\"] = [(0, 1), (0, 1)]\n",
        "opts[\"paramNames\"] = [\"σ\", \"ϕ\"]\n",
        "\n",
        "opts[\"stateNames\"] = [\"Rt\", \"It\"]\n",
        "(df_states, df_params, θ, diag) = fitModel(ExampleModel3, Y, opts; skipResamplingPMMH=true);"
      ],
      "execution_count": null,
      "outputs": []
    },
    {
      "cell_type": "markdown",
      "metadata": {},
      "source": [
        "Interrogating the output, we first check the parameter estimates:"
      ]
    },
    {
      "cell_type": "code",
      "metadata": {},
      "source": [
        "display(df_params)"
      ],
      "execution_count": null,
      "outputs": []
    },
    {
      "cell_type": "markdown",
      "metadata": {},
      "source": [
        "And plot the reproduction number estimates:"
      ]
    },
    {
      "cell_type": "code",
      "metadata": {},
      "source": [
        "df_Rt  = df_states[df_states.variable.==\"Rt\",:]\n",
        "df_It = df_states[df_states.variable.==\"It\",:]\n",
        "\n",
        "pltR3 = plot(size=(800,400), xlabel=\"Date\", ylabel=\"Reproduction number\", margins=3mm)\n",
        "pltR3 = plot!(pltR3, df_Rt.date, df_Rt.mean, ribbon=(df_Rt.mean-df_Rt.lower, df_Rt.upper-df_Rt.mean), color=:darkgreen, label=false)\n",
        "pltR3 = hline!([1], color=:black, linestyle=:dash, label=\"Rt = 1\")"
      ],
      "execution_count": null,
      "outputs": []
    },
    {
      "cell_type": "markdown",
      "metadata": {},
      "source": [
        "Showing even smoother estimates of $R_t$. In example 2, all unexpected variation in case counts must be attributed to changes in the reproduction number, whereas this model allows for noise in the case data themselves. \n",
        "\n",
        "These still aren't the best possible estimates, however! In this example, many of the reported cases were infected overseas - we don't account for these here, hence these $R_t$ estimates are biased upward."
      ]
    }
  ],
  "metadata": {
    "kernelspec": {
      "name": "julia-_n-threads_-1.8",
      "language": "julia",
      "display_name": "Julia (n threads) 1.8.0",
      "path": "/Users/nicsteyn/Library/Jupyter/kernels/julia-_n-threads_-1.8"
    }
  },
  "nbformat": 4,
  "nbformat_minor": 4
}