{
  "cells": [
    {
      "cell_type": "markdown",
      "metadata": {},
      "source": [
        "# The renewal model {#sec-intro}\n",
        "\n",
        "The renewal model is a simple model of infectious disease transmission. It relates past cases to current cases through a serial interval and reproduction number. It is typically written:\n",
        "\n",
        "$$\n",
        "E[C_t] = R_t \\sum_{u=1}^{u_{max}} C_{t-u} \\omega_u\n",
        "$$ {#eq-intro-renewal}\n",
        "\n",
        "where:\n",
        "\n",
        "- $C_t$: the number of **cases reported** on time-step $t$\n",
        "- $R_t$: the **instantaneous reproduction number** at time-step $t$. Defined as the average number of secondary cases produced by an infected individual, if they were to have their entire infectious period at the current time-step.\n",
        "- $\\omega_u$: the **serial interval**. The probability that a secondary case was reported $u$ days after the primary case. $u_{max}$ denotes the maximum value of $u$ for which $\\omega_u > 0$.\n",
        "\n",
        "![Diagram of the renewal model. In this example, the serial interval takes values ωu = 0.25, 0.5, 0.25 for u = 1, 2, 3 (a maximum serial interval of three days) and the reproduction number is assumed to take values Rt–1 = 2, Rt = 2, and Rt+1 = 1. On the left, the expected number of secondary cases produced by a primary case who was reported at time t–2 is shown (0.5 cases on day t–1, a single case on day t, and 0.25 cases on day t+1), with their expected contribution to total cases at time t highlighted. On the right, the expected total cases at time t is shown as the sum of the expected cases produced by primary cases reported u = 1, 2, and 3 days ago, defining the renewal equation.](images/intro-renewalmodel-diagram.png){#fig-intro-diagram}\n",
        "\n",
        "We also need to specify a distribution for $C_t$. The canonical choice is the *Poisson renewal model*:\n",
        "\n",
        "$$\n",
        "C_t|R_t, C_{1:t-1} \\sim \\text{Poisson}\\left(R_t \\sum_{u=1}^{u_{max}} C_{t-u} \\omega_u \\right)\n",
        "$$ {#eq-intro-poissonrenewal}\n",
        "\n",
        "Finally, we often denote the summation in the renewal model using:\n",
        "\n",
        "$$\n",
        "\\Lambda_t^c = \\sum_{u=1}^{u_{max}} C_{t-u} \\omega_u\n",
        "$$ {#eq-intro-forceofinfection}\n",
        "\n",
        "where $\\Lambda_t^c$ is called the **force-of-infection** at time $t$. The superscript $c$ denotes that $\\Lambda_t^c$ is calculated using past reported cases, to differentiate it from $\\Lambda_t$, which we use when modelling *infections* (see @sec-intro-casesvsinfections).\n",
        "\n",
        "## Simulating the renewal model\n",
        "\n",
        "To understand how the renewal model works, let's start by simulating $T = 100$ days of reported cases from it. To do this, we need **three components**:\n",
        "\n",
        "1. **Initial cases** $C_1$. Let's start with $C_1 = 50$."
      ]
    },
    {
      "cell_type": "code",
      "metadata": {},
      "source": [
        "#| output: false\n",
        "\n",
        "T = 100\n",
        "C = zeros(T)\n",
        "C[1] = 50 # Specify C_1 = 50"
      ],
      "execution_count": null,
      "outputs": []
    },
    {
      "cell_type": "markdown",
      "metadata": {},
      "source": [
        "2. The **reproduction number** over time. We will use a sin-curve alternating between $R_t = 1.5$ and $R_t = 0.5$ with a period of 50 days for this example:"
      ]
    },
    {
      "cell_type": "code",
      "metadata": {},
      "source": [
        "#| output: false\n",
        "\n",
        "R = 1.0 .+ 0.5 * sin.((2*π/50) .* (1:T))"
      ],
      "execution_count": null,
      "outputs": []
    },
    {
      "cell_type": "markdown",
      "metadata": {},
      "source": [
        "3. A **serial interval**. We use a discretised Gamma(2.36, 2.74)^[This is a popular serial interval used in early COVID-19 models [@paragDecipheringEarlywarningSignals2021; @fergusonReportImpactNonpharmaceutical2020].] distribution:"
      ]
    },
    {
      "cell_type": "code",
      "metadata": {},
      "source": [
        "#| output: false\n",
        "using Distributions\n",
        "\n",
        "ω = pdf.(Gamma(2.36, 2.74), 1:T)\n",
        "ω = ω/sum(ω) # Ensure it is normalised!"
      ],
      "execution_count": null,
      "outputs": []
    },
    {
      "cell_type": "markdown",
      "metadata": {},
      "source": [
        "Plotting our chosen $R_t$ and serial interval:"
      ]
    },
    {
      "cell_type": "code",
      "metadata": {},
      "source": [
        "#| code-fold: true\n",
        "#| fig-cap: \"Assumed time-varying reproduction number and serial intervals.\"\n",
        "#| label: fig-intro-simulatedRtSerial\n",
        "\n",
        "# Visualise Rt and the serial interval\n",
        "using Plots, Measures\n",
        "plotR = plot(R, label=false, xlabel=\"Time (days)\", ylabel=\"Reproduction number\", color=:darkgreen, linewidth=3)\n",
        "plotω = bar(1:21, ω[1:21], label=false, xlabel=\"Day\", ylabel=\"Serial interval probability\", color=:darkorange)\n",
        "display(plot(plotR, plotω, layout=(1,2), size=(800,300), margins=3mm))"
      ],
      "execution_count": null,
      "outputs": []
    },
    {
      "cell_type": "markdown",
      "metadata": {},
      "source": [
        "Now we are ready to simulate from the renewal model. We do this by iteratively sampling a new $C_t$ and calculating the new force-of-infection term:"
      ]
    },
    {
      "cell_type": "code",
      "metadata": {},
      "source": [
        "for tt = 2:T\n",
        "\n",
        "    # Calculate the force-of-infection\n",
        "    Λ = sum(C[tt-1:-1:1] .* ω[1:tt-1])/sum(ω[1:tt-1])\n",
        "\n",
        "    # And sample from the appropriate Poisson distribution\n",
        "    C[tt] = rand(Poisson(R[tt] * Λ))\n",
        "\n",
        "end"
      ],
      "execution_count": null,
      "outputs": []
    },
    {
      "cell_type": "markdown",
      "metadata": {},
      "source": [
        "Finally letting us plot our simulated cases:"
      ]
    },
    {
      "cell_type": "code",
      "metadata": {},
      "source": [
        "#| fig-cap: \"Simulated epidemic from the renewal model using our chosen values of Rt and ω.\"\n",
        "#| code-fold: true\n",
        "#| label: fig-intro-simulatedcases\n",
        "\n",
        "display(bar(C, label=false, xlabel=\"Time (days)\", ylabel=\"Simulated cases\", size=(800,300), margins=3mm, color=:darkblue))"
      ],
      "execution_count": null,
      "outputs": []
    },
    {
      "cell_type": "markdown",
      "metadata": {},
      "source": [
        "::: {.callout-tip title=\"Julia\"}\n",
        "These codeblocks are written in the programming language Julia, which should (mostly) make sense to those familiar with R/Python/MATLAB. One key difference between these languages and Julia is **broadcasting**.\n",
        "\n",
        "Broadcasting allows functions to be called *elementwise*. For example, when defining `R` above, we write:\n",
        "\n",
        "```julia\n",
        "R = 1.0 .+ 0.5 * sin.(...)\n",
        "```\n",
        "\n",
        "As `1.0` is a scalar and `0.5 * sin.(...)` is a vector, the `.` before the `+` tells Julia to add 1 to each *element* of `0.5 * sin.(...)`. Similarly, the `.` in `sin.(x)` tells Julia to apply the sine function to each element of `x`. Other languages may handle this automatically in some cases, but by being explicit about element-wise operations, Julia avoids ambiguity.\n",
        "\n",
        "Broadcasting can also be more memory-efficient in certain situations. It also works automatically with user-defined functions.\n",
        ":::\n",
        "\n",
        "\n",
        "## Estimating $R_t$ {#sec-intro-Rtestimation}\n",
        "\n",
        "$R_t$ is a crucial component in the renewal model thus making the renewal model a natural choice for $R_t$ estimation. In fact, even if your goal is not to estimate $R_t$, it is helpful to consider this briefly.\n",
        "\n",
        "If $C_t$ is large and the model accurately reflects reality, we can use @eq-intro-poissonrenewal to estimate $R_t$ directly. In the Bayesian setting, a prior distribution is placed on $R_t$ and standard methods are used to find $P(R_t | C_{1:t})$. However, often $C_t$ is small and the data are subject to noise and bias. Estimates from the naive method are thus highly variable.\n",
        "\n",
        "\n",
        "### Example\n",
        "\n",
        "Let's pretend we don't know $R_t$ and want to estimate it from the simulated data. Like @coriNewFrameworkSoftware2013, we will use a Gamma prior distribution for $R_t$ with shape $a_0 = 1$ and rate $b_0 = 0.2$. As our likelihood is a Poisson distribution, we have a conjugate prior-likelihood, and thus our posterior distribution for $R_t$ is:\n",
        "\n",
        "$$\n",
        "R_t | C_{1:t} \\sim \\text{Gamma}\\left(a_0 + C_t, b_0 + \\sum_{u=1}^{u_{max}} C_{t-u} \\omega_u \\right)\n",
        "$$ {#eq-intro-simpleposterior}\n"
      ]
    },
    {
      "cell_type": "code",
      "metadata": {},
      "source": [
        "(MeanRt, LowerRt, UpperRt) = (zeros(T), zeros(T), zeros(T)) # Pre-allocate results vectors\n",
        "(a0, b0) = (1, 1/5) # Set prior parameters\n",
        "\n",
        "for tt = 2:T\n",
        "\n",
        "    # Find the posterior distribution on day t\n",
        "    a = a0 + C[tt]\n",
        "    b = b0 + sum(C[tt-1:-1:1] .* ω[1:tt-1])/sum(ω[1:tt-1])\n",
        "    PosteriorDist = Gamma(a, 1/b)\n",
        "\n",
        "    # Save the results\n",
        "    MeanRt[tt] = mean(PosteriorDist)\n",
        "    LowerRt[tt] = quantile(PosteriorDist, 0.025)\n",
        "    UpperRt[tt] = quantile(PosteriorDist, 0.975)\n",
        "\n",
        "end"
      ],
      "execution_count": null,
      "outputs": []
    },
    {
      "cell_type": "markdown",
      "metadata": {},
      "source": [
        "We will compare our estimates with those from a popular model, EpiEstim, which smooths the data by assuming $R_t$ is fixed over a $\\tau$-day (typically $\\tau = 7$) trailing window:"
      ]
    },
    {
      "cell_type": "code",
      "metadata": {},
      "source": [
        "#| output: false\n",
        "\n",
        "include(\"../src/RtEstimators.jl\")\n",
        "EpiEstimPosterior = EpiEstim(7, ω, C; a0=a0, b0=b0)\n",
        "(EpiEstMean, EpiEstLower, EpiEstUpper) = (mean.(EpiEstimPosterior), quantile.(EpiEstimPosterior, 0.025), quantile.(EpiEstimPosterior, 0.975))"
      ],
      "execution_count": null,
      "outputs": []
    },
    {
      "cell_type": "markdown",
      "metadata": {},
      "source": [
        "Finally, we are ready to plot our results:"
      ]
    },
    {
      "cell_type": "code",
      "metadata": {},
      "source": [
        "#| label: fig-intro-examplert\n",
        "#| fig-cap: \"Estimates of Rt from the basic (unsmoothed) renewal model (blue) and from a smoothed model (EpiEstim, orange).\"\n",
        "#| code-fold: true\n",
        "plot(xlabel=\"Time (days)\", ylabel=\"Reproduction number\", size=(800,350), left_margin=3mm, bottom_margin=3mm)\n",
        "plot!(2:T, MeanRt[2:T], ribbon=(MeanRt[2:T]-LowerRt[2:T], UpperRt[2:T]-MeanRt[2:T]), fillalpha=0.4, label=\"Unsmoothed posterior\")\n",
        "plot!(2:T, EpiEstMean[2:T], ribbon=(EpiEstMean[2:T]-EpiEstLower[2:T], EpiEstUpper[2:T]-EpiEstMean[2:T]), fillalpha=0.4, label=\"EpiEstim (smoothed) posterior\")\n",
        "plot!(1:T, R, label=\"True Rt\", color=:black)"
      ],
      "execution_count": null,
      "outputs": []
    },
    {
      "cell_type": "markdown",
      "metadata": {},
      "source": [
        "### The necessity and dangers of smoothing {#sec-intro-smoothing}\n",
        "\n",
        "@fig-intro-examplert highlights both the necessity and dangers of smoothing. Our independent daily estimates (blue) are highly variable and the credible intervals are wide. By using smoothed estimates (orange), we reduce this variance and produce much more confident results. However, our results strongly depend on these smoothing assumptions. In the example above, we can clearly see that the credible intervals produced by EpiEstim often do not include the true value of $R_t$!\n",
        "\n",
        "Smoothing works by allowing data from multiple days to inform point-estimates. A variety of approaches have been developed, discussed at length in @sec-smoothingmethods. **In fact, many popular renewal-model based estimators of $R_t$ differ only in their choice of smoothing method!**\n",
        "\n",
        "Epidemic renewal models are usually smoothed by placing assumptions on the dynamics of $R_t$. Examples include assuming $R_t$ is fixed over trailing windows [@coriNewFrameworkSoftware2013], modelling it with splines [@azmonEstimationReproductionNumber2014] or Gaussian processes [@abbottEstimatingTimevaryingReproduction2020], or assuming it follows a random walk [@paragImprovedEstimationTimevarying2021]. Piecewise-constant models, where $R_t$ is assumed to be fixed over different time-windows, are also examples of smoothing [@creswellBayesianNonparametricMethod2023].\n",
        "\n",
        "So far we have only considered process noise in the epidemic, but epidemic data are often subject to observation noise, a secondary reason why smoothing is so important.\n",
        "\n",
        "\n",
        "\n",
        "## The serial interval\n",
        "\n",
        "The other key component in the renewal model is the serial interval $\\omega$. This parameter is typically not identifiable from reported case data (at least at the same time as $R_t$), so it often receives less attention. When fitting renewal models, researchers usually use estimates of the serial interval from other data.\n",
        "\n",
        "\n",
        "## Reported cases vs infections {#sec-intro-casesvsinfections}\n",
        "\n",
        "The simple renewal model in @eq-intro-poissonrenewal assumes that old reported cases directly cause new reported cases. This leaves little room for observation noise. Instead, we can assume that old (but typically unobserved) infections cause new infections, writing:\n",
        "\n",
        "$$\n",
        "I_t|R_t, I_{1:t-1} \\sim \\text{Poisson}\\left(R_t \\Lambda_t\\right)\n",
        "$$ {#eq-intro-infectionrenewal}\n",
        "\n",
        "The force-of-infection becomes:\n",
        "\n",
        "$$\n",
        "\\Lambda_t = \\sum_{u=1}^{u_{max}} I_{t-u} g_u\n",
        "$$ {#eq-intro-forceofinfectioninc}\n",
        "\n",
        "Where we have replaced the serial interval $\\omega_u$ with a generation time distribution $g_u$, reflecting that we are modelling the delay between infection events instead of reporting events.\n",
        "\n",
        "Explicitly modelling infections allows us to define an observation distribution:\n",
        "\n",
        "$$\n",
        "P(C_t | I_{1:t})\n",
        "$$ {#eq-intro-obsdist}\n",
        "\n",
        "which explicitly links our hidden (a.k.a latent) infections to our reported cases. A plethora of methods exist that can estimate $I_{1:T}$ given $C_{1:T}$.\n",
        "\n",
        "Separating case reporting from transmission allows us to model process noise and observation noise separately. This is one of the key advantages provided by our SMC methods."
      ]
    }
  ],
  "metadata": {
    "kernelspec": {
      "name": "julia-_n-threads_-1.8",
      "language": "julia",
      "display_name": "Julia (n threads) 1.8.0",
      "path": "/Users/nicsteyn/Library/Jupyter/kernels/julia-_n-threads_-1.8"
    }
  },
  "nbformat": 4,
  "nbformat_minor": 4
}