{
  "cells": [
    {
      "cell_type": "markdown",
      "metadata": {},
      "source": [
        "# Imported cases {#sec-models-imported}"
      ]
    },
    {
      "cell_type": "code",
      "metadata": {},
      "source": [
        "#| code-fold: true\n",
        "#| output: false\n",
        "\n",
        "# Setting up\n",
        "using Distributions, Plots, Measures\n",
        "include(\"../src/loadData.jl\")"
      ],
      "execution_count": null,
      "outputs": []
    },
    {
      "cell_type": "markdown",
      "metadata": {},
      "source": [
        "We suggested in section @sec-smc-data that separating imported from local cases may be critical when modelling the example data (the first 100 days of the COVID-19 pandemic in New Zealand). Separating the graph of reported cases into local and imported cases demonstrates why:"
      ]
    },
    {
      "cell_type": "code",
      "metadata": {},
      "source": [
        "#| code-fold: true\n",
        "#| fig-cap: \"Reported cases of COVID-19 in the first 100 days of the pandemic in New Zealand, separated by imported cases (dark blue) and local cases (orange).\"\n",
        "#| label: fig-models-importsdata\n",
        "\n",
        "Y = loadData(\"NZCOVID\")\n",
        "bar(Y.date, Y.border + Y.local, label=\"Local\", color=:darkorange)\n",
        "bar!(Y.date, Y.border, label=\"Imported\", color=:darkblue)\n",
        "plot!(xlabel=\"Date\", ylabel=\"Reported cases\", size=(800,300), margins=3mm)"
      ],
      "execution_count": null,
      "outputs": []
    },
    {
      "cell_type": "markdown",
      "metadata": {},
      "source": [
        "The problem of modelling imported cases has previously been covered by @thompsonImprovedInferenceTimevarying2019, ..., and ...\n",
        "\n",
        "This chapter demonstrates one way in which local and imported cases can be distinguished in the sequential hidden-state framework.\n",
        "\n",
        "## Without quarantine\n",
        "\n",
        "We retain the hidden-state model from @sec-models-simple:\n",
        "\n",
        "$$\n",
        "\\log R_t \\sim \\text{Normal}(\\log R_{t-1}, \\sigma)\n",
        "$$ {#eq-models-importsstatespace}\n",
        "\n",
        "and now assume that only local cases $L_t$ are infected by past local and imported $M_t$ cases:\n",
        "\n",
        "$$\n",
        "L_t | R_t \\sim \\text{Poisson}\\left(R_t \\Lambda_t^{(m)}\\right)\n",
        "$$ {#eq-models-importsobs}\n",
        "\n",
        "where \n",
        "\n",
        "$$\n",
        "\\Lambda_t^{(m)} = \\sum_{u=1}^{u_{max}} \\omega_u \\left(L_{t-u} + M_{t-u}\\right)\n",
        "$$ {#eq-models-importsobsforce}\n",
        "\n",
        "The bootstrap filter for this model is nearly identical to the simple model, we simply change one line (#TODO: install highlight extension and highlight):"
      ]
    },
    {
      "cell_type": "code",
      "metadata": {},
      "source": [
        "#| output: false\n",
        "#| code-fold: true\n",
        "\n",
        "function importedModel(σ, Y::DataFrame, opts::Dict)\n",
        "\n",
        "    # Extract frequently used options\n",
        "    T = opts[\"T\"]\n",
        "    N = opts[\"N\"]\n",
        "    L = opts[\"L\"]\n",
        "\n",
        "    # Initialise output matrices\n",
        "    R = zeros(N, T) # Using R instead of X to highlight we're estimating Rt\n",
        "    W = zeros(N, T)\n",
        "\n",
        "    # Sample from initial distribution\n",
        "    R[:,1] = rand.(opts[\"pR0\"], N)\n",
        "\n",
        "    # Run the filter\n",
        "    for tt = 2:T\n",
        "\n",
        "        # Project according to the state-space model\n",
        "        R[:,tt] = exp.(rand.(Normal.(log.(R[:,tt-1]), σ)))\n",
        "\n",
        "        # Weight according to the observation model\n",
        "        Λ = sum(Y.Ct[tt-1:-1:1] .* ω[1:tt-1])\n",
        "        W[:,tt] = pdf.(Poisson.(R[:,tt] .* Λ), Y.local[tt]) # <- This line is the only line that has changed!\n",
        "\n",
        "        # Resample\n",
        "        inds = wsample(1:N, W[:,tt], N; replace=true)\n",
        "        R[:, max(tt - L, 1):tt] = R[inds, max(tt - L, 1):tt]\n",
        "\n",
        "    end\n",
        "\n",
        "    return(R, W)\n",
        "\n",
        "end"
      ],
      "execution_count": null,
      "outputs": []
    },
    {
      "cell_type": "markdown",
      "metadata": {},
      "source": [
        "Fitting the model and plotting $R_t$ against our original estmiates reveals substantial differences:\n",
        "\n",
        "[Single figure to go here]\n",
        "\n",
        "## With quarantine\n",
        "\n",
        "The model above assumed that imported cases are just as infectious as local cases. In \n",
        "\n",
        "\n",
        "\n",
        "\n",
        "## Concluding remarks"
      ]
    }
  ],
  "metadata": {
    "kernelspec": {
      "name": "julia-_n-threads_-1.8",
      "language": "julia",
      "display_name": "Julia (n threads) 1.8.0",
      "path": "/Users/nicsteyn/Library/Jupyter/kernels/julia-_n-threads_-1.8"
    }
  },
  "nbformat": 4,
  "nbformat_minor": 4
}