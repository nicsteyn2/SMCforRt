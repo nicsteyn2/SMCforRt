{
  "cells": [
    {
      "cell_type": "markdown",
      "metadata": {},
      "source": [
        "# Notation\n",
        "\n",
        "Terms are presented in the order they are introduced, except where it makes sense to place similar terms near each other.\n",
        "\n",
        "|Term|Definition|\n",
        "|--|---|\n",
        "|Filtering distribution|The posterior distribution of hidden state $x_t$ given observed data until time $t$. Written $P(x_t | y_{1:t})$.|\n",
        "|Smoothing distribution|The posterior distribution of hidden state $x_t$ given all observed data. Written $P(x_t|y_{1:T})$.|\n",
        "\n",
        "\n",
        "|Symbol|Definition|\n",
        "|-|---|\n",
        "|[Introduction](link.link)| <!-- #TODO: Figure out how to make this span -->\n",
        "|$E[\\cdot]$|The expectation operator.|\n",
        "|$C_t$| Reported cases on time-step $t$.|\n",
        "|$I_t$| Infection incidence on time-step $t$.|\n",
        "|$R_t$| The instantaneous reproduction number at time-step $t$.|\n",
        "|$\\omega_u$| The serial interval distribution. The probability that a secondary case was reported $u$ days after the primary case.|\n",
        "|$g_u$| The generation time distribution. The probability that a secondary case was infected $u$ days after the primary case.\n",
        "|$\\Lambda_t^c$ | The force-of-infection derived from reported cases. Equals $\\sum_{u=1}^{u_{max}} C_{t-u} \\omega_u$.|\n",
        "|$\\Lambda_t$| The force-of-infection derived from infection incidence. Equals $\\sum_{u=1}^{u_{max}} I_{t-u} g_u$.|\n",
        "|$s:t$| Used as a subscript, refers to all indices between $s$ and $t$ (inclusive).|"
      ]
    }
  ],
  "metadata": {
    "kernelspec": {
      "name": "python3",
      "language": "python",
      "display_name": "Python 3 (ipykernel)",
      "path": "/Users/nicsteyn/anaconda3/share/jupyter/kernels/python3"
    }
  },
  "nbformat": 4,
  "nbformat_minor": 4
}