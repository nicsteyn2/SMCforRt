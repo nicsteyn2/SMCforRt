{
  "cells": [
    {
      "cell_type": "markdown",
      "metadata": {},
      "source": [
        "# EpiEstim {#sec-other-epiestim}\n",
        "\n",
        "We present Julia implementations of EpiEstim (this chapter), EpiFilter (@sec-other-epifilter), and a heavily simplified version of (@sec-other-epinow2). The (approximate) EpiNow2 implementation also requires the installation of Stan, while EpiEstim and EpiFilter are implemented natively.\n",
        "\n",
        "Much of the code for EpiEstim and EpiFilter has been reproduced from previous work [CITE PAPER WITH KRIS].\n",
        "\n",
        "## Model definition\n",
        "\n",
        "EpiEstim assumes that (typically daily) $R_t$ is fixed over trailing windows of length $k$. A common choice of this parameter value is $k = 7$, in which case estimates produced by EpiEstim are referred to as weekly estimates. The Poisson renewal model is used, giving likelihood:\n",
        "\n",
        "$$\n",
        "L(R_t | C_{1:t}, k) = \\prod_{s = t - k + 1}^t \\text{Poisson PDF}\\left(C_s; R_t \\Lambda_s^c \\right)\n",
        "$$\n",
        "\n",
        "where $\\Lambda_t^c$ is the force-of-infection of reported cases. A $\\text{Gamma}(\\alpha_0, \\beta_0)$ prior distribution is placed on $R_t$, such that the posterior distribution can be shown to be:\n",
        "\n",
        "$$\n",
        "P(R_t | C_{1:t}, k) \\sim \\text{Gamma}\\left(\\alpha = \\alpha_0 + \\sum_{s=t-k+1}^t C_s, \\beta = \\beta_0 + \\sum_{s=t-k+1}^t \\Lambda_s \\right)\n",
        "$$"
      ]
    }
  ],
  "metadata": {
    "kernelspec": {
      "name": "python3",
      "language": "python",
      "display_name": "Python 3 (ipykernel)",
      "path": "/Users/nicsteyn/anaconda3/share/jupyter/kernels/python3"
    }
  },
  "nbformat": 4,
  "nbformat_minor": 4
}