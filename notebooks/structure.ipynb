{
  "cells": [
    {
      "cell_type": "markdown",
      "metadata": {},
      "source": [
        "# Structure of pre-built functions {#sec-structure}"
      ]
    },
    {
      "cell_type": "code",
      "metadata": {},
      "source": [
        "#| code-fold: true\n",
        "#| output: false\n",
        "\n",
        "using Distributions\n",
        "include(\"../src/loadData.jl\")"
      ],
      "execution_count": null,
      "outputs": []
    },
    {
      "cell_type": "markdown",
      "metadata": {},
      "source": [
        "## Primary function\n",
        "\n",
        "The provided code is built around a user-written function, denoted here ```bootstrapFilter(θ, Y, opts)``` . This function should encode the user's entire state-space model by implementing a bootstrap filter, including initialisation and the projection-weighting-resampling steps.\n",
        "\n",
        "This function should accept:\n",
        "\n",
        "- A parameter vector ```θ```\n",
        "- Sorted dataframe of data ```Y```\n",
        "- Options dictionary ```opts```\n",
        "\n",
        "and should return a tuple of the form ```(X, W)```, where:\n",
        "\n",
        "- ```X``` contains the particle values (typically in the form of an $N \\times T \\times S$ vector where $S$ is the number of hidden-states)\n",
        "- ```W``` is a $N \\times T$ matrix of observation weights\n",
        "\n",
        "### Example\n",
        "\n",
        "Only minor modifications need to be made to the example in @sec-smc-pmmhexamplefunc in order to satisfy these requirements:"
      ]
    },
    {
      "cell_type": "code",
      "metadata": {},
      "source": [
        "#| code-fold: true\n",
        "#| output: false\n",
        "\n",
        "σ = 0.1 # Model parameters\n",
        "nzdata = loadData(\"NZCOVID\") # Dataframe containing model data\n",
        "opts = Dict() # A dictionary of parameter values\n",
        "opts[\"T\"] = length(nzdata.Ct)\n",
        "opts[\"N\"] = 10000\n",
        "opts[\"pR0\"] = Uniform(0, 10)\n",
        "\n",
        "function runSimpleModel(σ, nzdata::DataFrame, opts::Dict)\n",
        "\n",
        "    # Extract frequently used options\n",
        "    T = opts[\"T\"]\n",
        "    N = opts[\"N\"]\n",
        "\n",
        "    # Initialise output matrices\n",
        "    X = zeros(N, T)\n",
        "    W = zeros(N, T)\n",
        "\n",
        "    # Sample from initial distribution\n",
        "    X[:,1] = rand.(opts[\"pR0\"], N)\n",
        "\n",
        "    # Run the filter\n",
        "    for tt = 2:T\n",
        "\n",
        "        # Project according to the state-space model\n",
        "        X[:,tt] = exp.(rand.(Normal.(log.(X[:,tt-1]), σ)))\n",
        "\n",
        "        # Weight according to the observation model\n",
        "        Λ = sum(nzdata.Ct[tt-1:-1:1] .* ω[1:tt-1])\n",
        "        W[:,tt] = pdf.(Poisson.(X[:,tt] .* Λ), nzdata.Ct[tt])\n",
        "\n",
        "        # Resample\n",
        "        inds = wsample(1:N, W[:,tt], N; replace=true)\n",
        "        X[:, max(tt - L, 1):tt] = X[inds, max(tt - L, 1):tt]\n",
        "\n",
        "    end\n",
        "\n",
        "    return(X, W)\n",
        "\n",
        "end"
      ],
      "execution_count": null,
      "outputs": []
    },
    {
      "cell_type": "markdown",
      "metadata": {},
      "source": [
        "## Pre-built functions\n",
        "\n",
        "We provide a collection of functions that accept ```bootstrapFilter``` (and also ```θ```, ```Y```, and ```opts```, depending on the function) as an argument:\n",
        "\n",
        "|Function|Description|\n",
        "|-|---|\n",
        "|```estimateLoglik()```|Calculates and returns the log-likelihood estimate (@eq-smc-likelihoodest). Includes optional argument ```ignoreerror``` (default false), that returns $-\\infty$ if the model returns an error.|\n",
        "|```simplePMMH()```| A simple implementation of the PMMH algorithm. Returns a matrix of accepted values ```C``` and a matrix of sampled values with the corresponding likelihood estimate and accept/reject decision ```OUT```.|\n",
        "|```simplePMMHMulti()``` | A multithreaded wrapper of ```simplePMMH()```. |\n",
        "|```PMMH()```| A (slightly) more comprehensive and adaptive implementation of the PMMH algorithm. Returns the same arguments, as well as a diagnostics dataframe. |\n",
        "|```PMMHMulti()``` | A multithreaded wrapper of ```PMMH()```. |"
      ]
    }
  ],
  "metadata": {
    "kernelspec": {
      "name": "julia-_n-threads_-1.8",
      "language": "julia",
      "display_name": "Julia (n threads) 1.8.0",
      "path": "/Users/nicsteyn/Library/Jupyter/kernels/julia-_n-threads_-1.8"
    }
  },
  "nbformat": 4,
  "nbformat_minor": 4
}