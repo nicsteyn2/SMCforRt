{
  "cells": [
    {
      "cell_type": "markdown",
      "metadata": {},
      "source": [
        "# Probability of elimination\n",
        "\n",
        "After observing consecutive time-steps of zero-cases, it is often natural to ask: what is the probability that the pathogen has been eliminated? Elimination is defined as ...\n",
        "\n",
        "But this problem is not as well-defined as it seems. For example..."
      ]
    }
  ],
  "metadata": {
    "kernelspec": {
      "name": "python3",
      "language": "python",
      "display_name": "Python 3 (ipykernel)",
      "path": "/Users/nicsteyn/anaconda3/share/jupyter/kernels/python3"
    }
  },
  "nbformat": 4,
  "nbformat_minor": 4
}